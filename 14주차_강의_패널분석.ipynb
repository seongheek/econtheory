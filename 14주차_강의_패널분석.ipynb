{
  "nbformat": 4,
  "nbformat_minor": 0,
  "metadata": {
    "colab": {
      "provenance": [],
      "authorship_tag": "ABX9TyMAi5WRMG4YdhqgwmZjBq2I",
      "include_colab_link": true
    },
    "kernelspec": {
      "name": "python3",
      "display_name": "Python 3"
    },
    "language_info": {
      "name": "python"
    }
  },
  "cells": [
    {
      "cell_type": "markdown",
      "metadata": {
        "id": "view-in-github",
        "colab_type": "text"
      },
      "source": [
        "<a href=\"https://colab.research.google.com/github/seongheek/econtheory/blob/main/14%EC%A3%BC%EC%B0%A8_%EA%B0%95%EC%9D%98_%ED%8C%A8%EB%84%90%EB%B6%84%EC%84%9D.ipynb\" target=\"_parent\"><img src=\"https://colab.research.google.com/assets/colab-badge.svg\" alt=\"Open In Colab\"/></a>"
      ]
    },
    {
      "cell_type": "markdown",
      "source": [
        "\n",
        "# **패널분석**\n",
        "패널데이터를 사용하여 패널 분석을 연습해보자."
      ],
      "metadata": {
        "id": "UByUluxdjjvQ"
      }
    },
    {
      "cell_type": "code",
      "source": [
        "#함수 불러오기\n",
        "import pandas as pd\n",
        "import numpy as np\n",
        "import statsmodels.formula.api as smf\n",
        "#데이터 불러오기\n",
        "!pip install linearmodels\n",
        "from linearmodels.datasets import wage_panel"
      ],
      "metadata": {
        "id": "VmIVsUs6A1f-",
        "colab": {
          "base_uri": "https://localhost:8080/"
        },
        "outputId": "7c10c1b8-ae68-4efc-bda8-fd8803c57a6c"
      },
      "execution_count": 1,
      "outputs": [
        {
          "output_type": "stream",
          "name": "stdout",
          "text": [
            "Collecting linearmodels\n",
            "  Downloading linearmodels-6.1-cp311-cp311-manylinux_2_17_x86_64.manylinux2014_x86_64.whl.metadata (7.9 kB)\n",
            "Requirement already satisfied: numpy<3,>=1.22.3 in /usr/local/lib/python3.11/dist-packages (from linearmodels) (2.0.2)\n",
            "Requirement already satisfied: pandas>=1.4.0 in /usr/local/lib/python3.11/dist-packages (from linearmodels) (2.2.2)\n",
            "Requirement already satisfied: scipy>=1.8.0 in /usr/local/lib/python3.11/dist-packages (from linearmodels) (1.15.3)\n",
            "Requirement already satisfied: statsmodels>=0.13.0 in /usr/local/lib/python3.11/dist-packages (from linearmodels) (0.14.4)\n",
            "Collecting mypy-extensions>=0.4 (from linearmodels)\n",
            "  Downloading mypy_extensions-1.1.0-py3-none-any.whl.metadata (1.1 kB)\n",
            "Requirement already satisfied: Cython>=3.0.10 in /usr/local/lib/python3.11/dist-packages (from linearmodels) (3.0.12)\n",
            "Collecting pyhdfe>=0.1 (from linearmodels)\n",
            "  Downloading pyhdfe-0.2.0-py3-none-any.whl.metadata (4.0 kB)\n",
            "Collecting formulaic>=1.0.0 (from linearmodels)\n",
            "  Downloading formulaic-1.1.1-py3-none-any.whl.metadata (6.9 kB)\n",
            "Collecting setuptools-scm<9.0.0,>=8.0.0 (from setuptools-scm[toml]<9.0.0,>=8.0.0->linearmodels)\n",
            "  Downloading setuptools_scm-8.3.1-py3-none-any.whl.metadata (7.0 kB)\n",
            "Collecting interface-meta>=1.2.0 (from formulaic>=1.0.0->linearmodels)\n",
            "  Downloading interface_meta-1.3.0-py3-none-any.whl.metadata (6.7 kB)\n",
            "Requirement already satisfied: typing-extensions>=4.2.0 in /usr/local/lib/python3.11/dist-packages (from formulaic>=1.0.0->linearmodels) (4.13.2)\n",
            "Requirement already satisfied: wrapt>=1.0 in /usr/local/lib/python3.11/dist-packages (from formulaic>=1.0.0->linearmodels) (1.17.2)\n",
            "Requirement already satisfied: python-dateutil>=2.8.2 in /usr/local/lib/python3.11/dist-packages (from pandas>=1.4.0->linearmodels) (2.9.0.post0)\n",
            "Requirement already satisfied: pytz>=2020.1 in /usr/local/lib/python3.11/dist-packages (from pandas>=1.4.0->linearmodels) (2025.2)\n",
            "Requirement already satisfied: tzdata>=2022.7 in /usr/local/lib/python3.11/dist-packages (from pandas>=1.4.0->linearmodels) (2025.2)\n",
            "Requirement already satisfied: packaging>=20 in /usr/local/lib/python3.11/dist-packages (from setuptools-scm<9.0.0,>=8.0.0->setuptools-scm[toml]<9.0.0,>=8.0.0->linearmodels) (24.2)\n",
            "Requirement already satisfied: setuptools in /usr/local/lib/python3.11/dist-packages (from setuptools-scm<9.0.0,>=8.0.0->setuptools-scm[toml]<9.0.0,>=8.0.0->linearmodels) (75.2.0)\n",
            "Requirement already satisfied: patsy>=0.5.6 in /usr/local/lib/python3.11/dist-packages (from statsmodels>=0.13.0->linearmodels) (1.0.1)\n",
            "Requirement already satisfied: six>=1.5 in /usr/local/lib/python3.11/dist-packages (from python-dateutil>=2.8.2->pandas>=1.4.0->linearmodels) (1.17.0)\n",
            "Downloading linearmodels-6.1-cp311-cp311-manylinux_2_17_x86_64.manylinux2014_x86_64.whl (1.7 MB)\n",
            "\u001b[2K   \u001b[90m━━━━━━━━━━━━━━━━━━━━━━━━━━━━━━━━━━━━━━━━\u001b[0m \u001b[32m1.7/1.7 MB\u001b[0m \u001b[31m54.3 MB/s\u001b[0m eta \u001b[36m0:00:00\u001b[0m\n",
            "\u001b[?25hDownloading formulaic-1.1.1-py3-none-any.whl (115 kB)\n",
            "\u001b[2K   \u001b[90m━━━━━━━━━━━━━━━━━━━━━━━━━━━━━━━━━━━━━━━━\u001b[0m \u001b[32m115.7/115.7 kB\u001b[0m \u001b[31m9.4 MB/s\u001b[0m eta \u001b[36m0:00:00\u001b[0m\n",
            "\u001b[?25hDownloading mypy_extensions-1.1.0-py3-none-any.whl (5.0 kB)\n",
            "Downloading pyhdfe-0.2.0-py3-none-any.whl (19 kB)\n",
            "Downloading setuptools_scm-8.3.1-py3-none-any.whl (43 kB)\n",
            "\u001b[2K   \u001b[90m━━━━━━━━━━━━━━━━━━━━━━━━━━━━━━━━━━━━━━━━\u001b[0m \u001b[32m43.9/43.9 kB\u001b[0m \u001b[31m2.7 MB/s\u001b[0m eta \u001b[36m0:00:00\u001b[0m\n",
            "\u001b[?25hDownloading interface_meta-1.3.0-py3-none-any.whl (14 kB)\n",
            "Installing collected packages: setuptools-scm, mypy-extensions, interface-meta, pyhdfe, formulaic, linearmodels\n",
            "Successfully installed formulaic-1.1.1 interface-meta-1.3.0 linearmodels-6.1 mypy-extensions-1.1.0 pyhdfe-0.2.0 setuptools-scm-8.3.1\n"
          ]
        }
      ]
    },
    {
      "cell_type": "code",
      "source": [
        "# wage_panel 데이터 로드 및 DataFrame으로 변환\n",
        "df= wage_panel.load()\n",
        "df"
      ],
      "metadata": {
        "colab": {
          "base_uri": "https://localhost:8080/",
          "height": 423
        },
        "id": "jYSokSX_B0FA",
        "outputId": "a243ae6d-75ac-4dd6-ff29-301bdee56934"
      },
      "execution_count": 2,
      "outputs": [
        {
          "output_type": "execute_result",
          "data": {
            "text/plain": [
              "         nr  year  black  exper  hisp  hours  married  educ  union     lwage  \\\n",
              "0        13  1980      0      1     0   2672        0    14      0  1.197540   \n",
              "1        13  1981      0      2     0   2320        0    14      1  1.853060   \n",
              "2        13  1982      0      3     0   2940        0    14      0  1.344462   \n",
              "3        13  1983      0      4     0   2960        0    14      0  1.433213   \n",
              "4        13  1984      0      5     0   3071        0    14      0  1.568125   \n",
              "...     ...   ...    ...    ...   ...    ...      ...   ...    ...       ...   \n",
              "4355  12548  1983      0      8     0   2080        1     9      0  1.591879   \n",
              "4356  12548  1984      0      9     0   2080        1     9      1  1.212543   \n",
              "4357  12548  1985      0     10     0   2080        1     9      0  1.765962   \n",
              "4358  12548  1986      0     11     0   2080        1     9      1  1.745894   \n",
              "4359  12548  1987      0     12     0   3380        1     9      1  1.466543   \n",
              "\n",
              "      expersq  occupation  \n",
              "0           1           9  \n",
              "1           4           9  \n",
              "2           9           9  \n",
              "3          16           9  \n",
              "4          25           5  \n",
              "...       ...         ...  \n",
              "4355       64           5  \n",
              "4356       81           5  \n",
              "4357      100           5  \n",
              "4358      121           5  \n",
              "4359      144           5  \n",
              "\n",
              "[4360 rows x 12 columns]"
            ],
            "text/html": [
              "\n",
              "  <div id=\"df-67a4afe5-01a7-4248-897e-ec456d3c03f6\" class=\"colab-df-container\">\n",
              "    <div>\n",
              "<style scoped>\n",
              "    .dataframe tbody tr th:only-of-type {\n",
              "        vertical-align: middle;\n",
              "    }\n",
              "\n",
              "    .dataframe tbody tr th {\n",
              "        vertical-align: top;\n",
              "    }\n",
              "\n",
              "    .dataframe thead th {\n",
              "        text-align: right;\n",
              "    }\n",
              "</style>\n",
              "<table border=\"1\" class=\"dataframe\">\n",
              "  <thead>\n",
              "    <tr style=\"text-align: right;\">\n",
              "      <th></th>\n",
              "      <th>nr</th>\n",
              "      <th>year</th>\n",
              "      <th>black</th>\n",
              "      <th>exper</th>\n",
              "      <th>hisp</th>\n",
              "      <th>hours</th>\n",
              "      <th>married</th>\n",
              "      <th>educ</th>\n",
              "      <th>union</th>\n",
              "      <th>lwage</th>\n",
              "      <th>expersq</th>\n",
              "      <th>occupation</th>\n",
              "    </tr>\n",
              "  </thead>\n",
              "  <tbody>\n",
              "    <tr>\n",
              "      <th>0</th>\n",
              "      <td>13</td>\n",
              "      <td>1980</td>\n",
              "      <td>0</td>\n",
              "      <td>1</td>\n",
              "      <td>0</td>\n",
              "      <td>2672</td>\n",
              "      <td>0</td>\n",
              "      <td>14</td>\n",
              "      <td>0</td>\n",
              "      <td>1.197540</td>\n",
              "      <td>1</td>\n",
              "      <td>9</td>\n",
              "    </tr>\n",
              "    <tr>\n",
              "      <th>1</th>\n",
              "      <td>13</td>\n",
              "      <td>1981</td>\n",
              "      <td>0</td>\n",
              "      <td>2</td>\n",
              "      <td>0</td>\n",
              "      <td>2320</td>\n",
              "      <td>0</td>\n",
              "      <td>14</td>\n",
              "      <td>1</td>\n",
              "      <td>1.853060</td>\n",
              "      <td>4</td>\n",
              "      <td>9</td>\n",
              "    </tr>\n",
              "    <tr>\n",
              "      <th>2</th>\n",
              "      <td>13</td>\n",
              "      <td>1982</td>\n",
              "      <td>0</td>\n",
              "      <td>3</td>\n",
              "      <td>0</td>\n",
              "      <td>2940</td>\n",
              "      <td>0</td>\n",
              "      <td>14</td>\n",
              "      <td>0</td>\n",
              "      <td>1.344462</td>\n",
              "      <td>9</td>\n",
              "      <td>9</td>\n",
              "    </tr>\n",
              "    <tr>\n",
              "      <th>3</th>\n",
              "      <td>13</td>\n",
              "      <td>1983</td>\n",
              "      <td>0</td>\n",
              "      <td>4</td>\n",
              "      <td>0</td>\n",
              "      <td>2960</td>\n",
              "      <td>0</td>\n",
              "      <td>14</td>\n",
              "      <td>0</td>\n",
              "      <td>1.433213</td>\n",
              "      <td>16</td>\n",
              "      <td>9</td>\n",
              "    </tr>\n",
              "    <tr>\n",
              "      <th>4</th>\n",
              "      <td>13</td>\n",
              "      <td>1984</td>\n",
              "      <td>0</td>\n",
              "      <td>5</td>\n",
              "      <td>0</td>\n",
              "      <td>3071</td>\n",
              "      <td>0</td>\n",
              "      <td>14</td>\n",
              "      <td>0</td>\n",
              "      <td>1.568125</td>\n",
              "      <td>25</td>\n",
              "      <td>5</td>\n",
              "    </tr>\n",
              "    <tr>\n",
              "      <th>...</th>\n",
              "      <td>...</td>\n",
              "      <td>...</td>\n",
              "      <td>...</td>\n",
              "      <td>...</td>\n",
              "      <td>...</td>\n",
              "      <td>...</td>\n",
              "      <td>...</td>\n",
              "      <td>...</td>\n",
              "      <td>...</td>\n",
              "      <td>...</td>\n",
              "      <td>...</td>\n",
              "      <td>...</td>\n",
              "    </tr>\n",
              "    <tr>\n",
              "      <th>4355</th>\n",
              "      <td>12548</td>\n",
              "      <td>1983</td>\n",
              "      <td>0</td>\n",
              "      <td>8</td>\n",
              "      <td>0</td>\n",
              "      <td>2080</td>\n",
              "      <td>1</td>\n",
              "      <td>9</td>\n",
              "      <td>0</td>\n",
              "      <td>1.591879</td>\n",
              "      <td>64</td>\n",
              "      <td>5</td>\n",
              "    </tr>\n",
              "    <tr>\n",
              "      <th>4356</th>\n",
              "      <td>12548</td>\n",
              "      <td>1984</td>\n",
              "      <td>0</td>\n",
              "      <td>9</td>\n",
              "      <td>0</td>\n",
              "      <td>2080</td>\n",
              "      <td>1</td>\n",
              "      <td>9</td>\n",
              "      <td>1</td>\n",
              "      <td>1.212543</td>\n",
              "      <td>81</td>\n",
              "      <td>5</td>\n",
              "    </tr>\n",
              "    <tr>\n",
              "      <th>4357</th>\n",
              "      <td>12548</td>\n",
              "      <td>1985</td>\n",
              "      <td>0</td>\n",
              "      <td>10</td>\n",
              "      <td>0</td>\n",
              "      <td>2080</td>\n",
              "      <td>1</td>\n",
              "      <td>9</td>\n",
              "      <td>0</td>\n",
              "      <td>1.765962</td>\n",
              "      <td>100</td>\n",
              "      <td>5</td>\n",
              "    </tr>\n",
              "    <tr>\n",
              "      <th>4358</th>\n",
              "      <td>12548</td>\n",
              "      <td>1986</td>\n",
              "      <td>0</td>\n",
              "      <td>11</td>\n",
              "      <td>0</td>\n",
              "      <td>2080</td>\n",
              "      <td>1</td>\n",
              "      <td>9</td>\n",
              "      <td>1</td>\n",
              "      <td>1.745894</td>\n",
              "      <td>121</td>\n",
              "      <td>5</td>\n",
              "    </tr>\n",
              "    <tr>\n",
              "      <th>4359</th>\n",
              "      <td>12548</td>\n",
              "      <td>1987</td>\n",
              "      <td>0</td>\n",
              "      <td>12</td>\n",
              "      <td>0</td>\n",
              "      <td>3380</td>\n",
              "      <td>1</td>\n",
              "      <td>9</td>\n",
              "      <td>1</td>\n",
              "      <td>1.466543</td>\n",
              "      <td>144</td>\n",
              "      <td>5</td>\n",
              "    </tr>\n",
              "  </tbody>\n",
              "</table>\n",
              "<p>4360 rows × 12 columns</p>\n",
              "</div>\n",
              "    <div class=\"colab-df-buttons\">\n",
              "\n",
              "  <div class=\"colab-df-container\">\n",
              "    <button class=\"colab-df-convert\" onclick=\"convertToInteractive('df-67a4afe5-01a7-4248-897e-ec456d3c03f6')\"\n",
              "            title=\"Convert this dataframe to an interactive table.\"\n",
              "            style=\"display:none;\">\n",
              "\n",
              "  <svg xmlns=\"http://www.w3.org/2000/svg\" height=\"24px\" viewBox=\"0 -960 960 960\">\n",
              "    <path d=\"M120-120v-720h720v720H120Zm60-500h600v-160H180v160Zm220 220h160v-160H400v160Zm0 220h160v-160H400v160ZM180-400h160v-160H180v160Zm440 0h160v-160H620v160ZM180-180h160v-160H180v160Zm440 0h160v-160H620v160Z\"/>\n",
              "  </svg>\n",
              "    </button>\n",
              "\n",
              "  <style>\n",
              "    .colab-df-container {\n",
              "      display:flex;\n",
              "      gap: 12px;\n",
              "    }\n",
              "\n",
              "    .colab-df-convert {\n",
              "      background-color: #E8F0FE;\n",
              "      border: none;\n",
              "      border-radius: 50%;\n",
              "      cursor: pointer;\n",
              "      display: none;\n",
              "      fill: #1967D2;\n",
              "      height: 32px;\n",
              "      padding: 0 0 0 0;\n",
              "      width: 32px;\n",
              "    }\n",
              "\n",
              "    .colab-df-convert:hover {\n",
              "      background-color: #E2EBFA;\n",
              "      box-shadow: 0px 1px 2px rgba(60, 64, 67, 0.3), 0px 1px 3px 1px rgba(60, 64, 67, 0.15);\n",
              "      fill: #174EA6;\n",
              "    }\n",
              "\n",
              "    .colab-df-buttons div {\n",
              "      margin-bottom: 4px;\n",
              "    }\n",
              "\n",
              "    [theme=dark] .colab-df-convert {\n",
              "      background-color: #3B4455;\n",
              "      fill: #D2E3FC;\n",
              "    }\n",
              "\n",
              "    [theme=dark] .colab-df-convert:hover {\n",
              "      background-color: #434B5C;\n",
              "      box-shadow: 0px 1px 3px 1px rgba(0, 0, 0, 0.15);\n",
              "      filter: drop-shadow(0px 1px 2px rgba(0, 0, 0, 0.3));\n",
              "      fill: #FFFFFF;\n",
              "    }\n",
              "  </style>\n",
              "\n",
              "    <script>\n",
              "      const buttonEl =\n",
              "        document.querySelector('#df-67a4afe5-01a7-4248-897e-ec456d3c03f6 button.colab-df-convert');\n",
              "      buttonEl.style.display =\n",
              "        google.colab.kernel.accessAllowed ? 'block' : 'none';\n",
              "\n",
              "      async function convertToInteractive(key) {\n",
              "        const element = document.querySelector('#df-67a4afe5-01a7-4248-897e-ec456d3c03f6');\n",
              "        const dataTable =\n",
              "          await google.colab.kernel.invokeFunction('convertToInteractive',\n",
              "                                                    [key], {});\n",
              "        if (!dataTable) return;\n",
              "\n",
              "        const docLinkHtml = 'Like what you see? Visit the ' +\n",
              "          '<a target=\"_blank\" href=https://colab.research.google.com/notebooks/data_table.ipynb>data table notebook</a>'\n",
              "          + ' to learn more about interactive tables.';\n",
              "        element.innerHTML = '';\n",
              "        dataTable['output_type'] = 'display_data';\n",
              "        await google.colab.output.renderOutput(dataTable, element);\n",
              "        const docLink = document.createElement('div');\n",
              "        docLink.innerHTML = docLinkHtml;\n",
              "        element.appendChild(docLink);\n",
              "      }\n",
              "    </script>\n",
              "  </div>\n",
              "\n",
              "\n",
              "    <div id=\"df-f77a71d8-42e2-449d-b4b7-ad75711ac886\">\n",
              "      <button class=\"colab-df-quickchart\" onclick=\"quickchart('df-f77a71d8-42e2-449d-b4b7-ad75711ac886')\"\n",
              "                title=\"Suggest charts\"\n",
              "                style=\"display:none;\">\n",
              "\n",
              "<svg xmlns=\"http://www.w3.org/2000/svg\" height=\"24px\"viewBox=\"0 0 24 24\"\n",
              "     width=\"24px\">\n",
              "    <g>\n",
              "        <path d=\"M19 3H5c-1.1 0-2 .9-2 2v14c0 1.1.9 2 2 2h14c1.1 0 2-.9 2-2V5c0-1.1-.9-2-2-2zM9 17H7v-7h2v7zm4 0h-2V7h2v10zm4 0h-2v-4h2v4z\"/>\n",
              "    </g>\n",
              "</svg>\n",
              "      </button>\n",
              "\n",
              "<style>\n",
              "  .colab-df-quickchart {\n",
              "      --bg-color: #E8F0FE;\n",
              "      --fill-color: #1967D2;\n",
              "      --hover-bg-color: #E2EBFA;\n",
              "      --hover-fill-color: #174EA6;\n",
              "      --disabled-fill-color: #AAA;\n",
              "      --disabled-bg-color: #DDD;\n",
              "  }\n",
              "\n",
              "  [theme=dark] .colab-df-quickchart {\n",
              "      --bg-color: #3B4455;\n",
              "      --fill-color: #D2E3FC;\n",
              "      --hover-bg-color: #434B5C;\n",
              "      --hover-fill-color: #FFFFFF;\n",
              "      --disabled-bg-color: #3B4455;\n",
              "      --disabled-fill-color: #666;\n",
              "  }\n",
              "\n",
              "  .colab-df-quickchart {\n",
              "    background-color: var(--bg-color);\n",
              "    border: none;\n",
              "    border-radius: 50%;\n",
              "    cursor: pointer;\n",
              "    display: none;\n",
              "    fill: var(--fill-color);\n",
              "    height: 32px;\n",
              "    padding: 0;\n",
              "    width: 32px;\n",
              "  }\n",
              "\n",
              "  .colab-df-quickchart:hover {\n",
              "    background-color: var(--hover-bg-color);\n",
              "    box-shadow: 0 1px 2px rgba(60, 64, 67, 0.3), 0 1px 3px 1px rgba(60, 64, 67, 0.15);\n",
              "    fill: var(--button-hover-fill-color);\n",
              "  }\n",
              "\n",
              "  .colab-df-quickchart-complete:disabled,\n",
              "  .colab-df-quickchart-complete:disabled:hover {\n",
              "    background-color: var(--disabled-bg-color);\n",
              "    fill: var(--disabled-fill-color);\n",
              "    box-shadow: none;\n",
              "  }\n",
              "\n",
              "  .colab-df-spinner {\n",
              "    border: 2px solid var(--fill-color);\n",
              "    border-color: transparent;\n",
              "    border-bottom-color: var(--fill-color);\n",
              "    animation:\n",
              "      spin 1s steps(1) infinite;\n",
              "  }\n",
              "\n",
              "  @keyframes spin {\n",
              "    0% {\n",
              "      border-color: transparent;\n",
              "      border-bottom-color: var(--fill-color);\n",
              "      border-left-color: var(--fill-color);\n",
              "    }\n",
              "    20% {\n",
              "      border-color: transparent;\n",
              "      border-left-color: var(--fill-color);\n",
              "      border-top-color: var(--fill-color);\n",
              "    }\n",
              "    30% {\n",
              "      border-color: transparent;\n",
              "      border-left-color: var(--fill-color);\n",
              "      border-top-color: var(--fill-color);\n",
              "      border-right-color: var(--fill-color);\n",
              "    }\n",
              "    40% {\n",
              "      border-color: transparent;\n",
              "      border-right-color: var(--fill-color);\n",
              "      border-top-color: var(--fill-color);\n",
              "    }\n",
              "    60% {\n",
              "      border-color: transparent;\n",
              "      border-right-color: var(--fill-color);\n",
              "    }\n",
              "    80% {\n",
              "      border-color: transparent;\n",
              "      border-right-color: var(--fill-color);\n",
              "      border-bottom-color: var(--fill-color);\n",
              "    }\n",
              "    90% {\n",
              "      border-color: transparent;\n",
              "      border-bottom-color: var(--fill-color);\n",
              "    }\n",
              "  }\n",
              "</style>\n",
              "\n",
              "      <script>\n",
              "        async function quickchart(key) {\n",
              "          const quickchartButtonEl =\n",
              "            document.querySelector('#' + key + ' button');\n",
              "          quickchartButtonEl.disabled = true;  // To prevent multiple clicks.\n",
              "          quickchartButtonEl.classList.add('colab-df-spinner');\n",
              "          try {\n",
              "            const charts = await google.colab.kernel.invokeFunction(\n",
              "                'suggestCharts', [key], {});\n",
              "          } catch (error) {\n",
              "            console.error('Error during call to suggestCharts:', error);\n",
              "          }\n",
              "          quickchartButtonEl.classList.remove('colab-df-spinner');\n",
              "          quickchartButtonEl.classList.add('colab-df-quickchart-complete');\n",
              "        }\n",
              "        (() => {\n",
              "          let quickchartButtonEl =\n",
              "            document.querySelector('#df-f77a71d8-42e2-449d-b4b7-ad75711ac886 button');\n",
              "          quickchartButtonEl.style.display =\n",
              "            google.colab.kernel.accessAllowed ? 'block' : 'none';\n",
              "        })();\n",
              "      </script>\n",
              "    </div>\n",
              "\n",
              "  <div id=\"id_c2ce55d3-b2e4-4fe8-b6ec-4496006aa00c\">\n",
              "    <style>\n",
              "      .colab-df-generate {\n",
              "        background-color: #E8F0FE;\n",
              "        border: none;\n",
              "        border-radius: 50%;\n",
              "        cursor: pointer;\n",
              "        display: none;\n",
              "        fill: #1967D2;\n",
              "        height: 32px;\n",
              "        padding: 0 0 0 0;\n",
              "        width: 32px;\n",
              "      }\n",
              "\n",
              "      .colab-df-generate:hover {\n",
              "        background-color: #E2EBFA;\n",
              "        box-shadow: 0px 1px 2px rgba(60, 64, 67, 0.3), 0px 1px 3px 1px rgba(60, 64, 67, 0.15);\n",
              "        fill: #174EA6;\n",
              "      }\n",
              "\n",
              "      [theme=dark] .colab-df-generate {\n",
              "        background-color: #3B4455;\n",
              "        fill: #D2E3FC;\n",
              "      }\n",
              "\n",
              "      [theme=dark] .colab-df-generate:hover {\n",
              "        background-color: #434B5C;\n",
              "        box-shadow: 0px 1px 3px 1px rgba(0, 0, 0, 0.15);\n",
              "        filter: drop-shadow(0px 1px 2px rgba(0, 0, 0, 0.3));\n",
              "        fill: #FFFFFF;\n",
              "      }\n",
              "    </style>\n",
              "    <button class=\"colab-df-generate\" onclick=\"generateWithVariable('df')\"\n",
              "            title=\"Generate code using this dataframe.\"\n",
              "            style=\"display:none;\">\n",
              "\n",
              "  <svg xmlns=\"http://www.w3.org/2000/svg\" height=\"24px\"viewBox=\"0 0 24 24\"\n",
              "       width=\"24px\">\n",
              "    <path d=\"M7,19H8.4L18.45,9,17,7.55,7,17.6ZM5,21V16.75L18.45,3.32a2,2,0,0,1,2.83,0l1.4,1.43a1.91,1.91,0,0,1,.58,1.4,1.91,1.91,0,0,1-.58,1.4L9.25,21ZM18.45,9,17,7.55Zm-12,3A5.31,5.31,0,0,0,4.9,8.1,5.31,5.31,0,0,0,1,6.5,5.31,5.31,0,0,0,4.9,4.9,5.31,5.31,0,0,0,6.5,1,5.31,5.31,0,0,0,8.1,4.9,5.31,5.31,0,0,0,12,6.5,5.46,5.46,0,0,0,6.5,12Z\"/>\n",
              "  </svg>\n",
              "    </button>\n",
              "    <script>\n",
              "      (() => {\n",
              "      const buttonEl =\n",
              "        document.querySelector('#id_c2ce55d3-b2e4-4fe8-b6ec-4496006aa00c button.colab-df-generate');\n",
              "      buttonEl.style.display =\n",
              "        google.colab.kernel.accessAllowed ? 'block' : 'none';\n",
              "\n",
              "      buttonEl.onclick = () => {\n",
              "        google.colab.notebook.generateWithVariable('df');\n",
              "      }\n",
              "      })();\n",
              "    </script>\n",
              "  </div>\n",
              "\n",
              "    </div>\n",
              "  </div>\n"
            ],
            "application/vnd.google.colaboratory.intrinsic+json": {
              "type": "dataframe",
              "variable_name": "df",
              "summary": "{\n  \"name\": \"df\",\n  \"rows\": 4360,\n  \"fields\": [\n    {\n      \"column\": \"nr\",\n      \"properties\": {\n        \"dtype\": \"number\",\n        \"std\": 3496,\n        \"min\": 13,\n        \"max\": 12548,\n        \"num_unique_values\": 545,\n        \"samples\": [\n          5435,\n          1249,\n          6955\n        ],\n        \"semantic_type\": \"\",\n        \"description\": \"\"\n      }\n    },\n    {\n      \"column\": \"year\",\n      \"properties\": {\n        \"dtype\": \"number\",\n        \"std\": 2,\n        \"min\": 1980,\n        \"max\": 1987,\n        \"num_unique_values\": 8,\n        \"samples\": [\n          1981,\n          1985,\n          1980\n        ],\n        \"semantic_type\": \"\",\n        \"description\": \"\"\n      }\n    },\n    {\n      \"column\": \"black\",\n      \"properties\": {\n        \"dtype\": \"number\",\n        \"std\": 0,\n        \"min\": 0,\n        \"max\": 1,\n        \"num_unique_values\": 2,\n        \"samples\": [\n          1,\n          0\n        ],\n        \"semantic_type\": \"\",\n        \"description\": \"\"\n      }\n    },\n    {\n      \"column\": \"exper\",\n      \"properties\": {\n        \"dtype\": \"number\",\n        \"std\": 2,\n        \"min\": 0,\n        \"max\": 18,\n        \"num_unique_values\": 19,\n        \"samples\": [\n          1,\n          6\n        ],\n        \"semantic_type\": \"\",\n        \"description\": \"\"\n      }\n    },\n    {\n      \"column\": \"hisp\",\n      \"properties\": {\n        \"dtype\": \"number\",\n        \"std\": 0,\n        \"min\": 0,\n        \"max\": 1,\n        \"num_unique_values\": 2,\n        \"samples\": [\n          1,\n          0\n        ],\n        \"semantic_type\": \"\",\n        \"description\": \"\"\n      }\n    },\n    {\n      \"column\": \"hours\",\n      \"properties\": {\n        \"dtype\": \"number\",\n        \"std\": 566,\n        \"min\": 120,\n        \"max\": 4992,\n        \"num_unique_values\": 1276,\n        \"samples\": [\n          1755,\n          1826\n        ],\n        \"semantic_type\": \"\",\n        \"description\": \"\"\n      }\n    },\n    {\n      \"column\": \"married\",\n      \"properties\": {\n        \"dtype\": \"number\",\n        \"std\": 0,\n        \"min\": 0,\n        \"max\": 1,\n        \"num_unique_values\": 2,\n        \"samples\": [\n          1,\n          0\n        ],\n        \"semantic_type\": \"\",\n        \"description\": \"\"\n      }\n    },\n    {\n      \"column\": \"educ\",\n      \"properties\": {\n        \"dtype\": \"number\",\n        \"std\": 1,\n        \"min\": 3,\n        \"max\": 16,\n        \"num_unique_values\": 13,\n        \"samples\": [\n          5,\n          16\n        ],\n        \"semantic_type\": \"\",\n        \"description\": \"\"\n      }\n    },\n    {\n      \"column\": \"union\",\n      \"properties\": {\n        \"dtype\": \"number\",\n        \"std\": 0,\n        \"min\": 0,\n        \"max\": 1,\n        \"num_unique_values\": 2,\n        \"samples\": [\n          1,\n          0\n        ],\n        \"semantic_type\": \"\",\n        \"description\": \"\"\n      }\n    },\n    {\n      \"column\": \"lwage\",\n      \"properties\": {\n        \"dtype\": \"number\",\n        \"std\": 0.5326094004203439,\n        \"min\": -3.579079,\n        \"max\": 4.05186,\n        \"num_unique_values\": 3631,\n        \"samples\": [\n          1.222665,\n          1.650552\n        ],\n        \"semantic_type\": \"\",\n        \"description\": \"\"\n      }\n    },\n    {\n      \"column\": \"expersq\",\n      \"properties\": {\n        \"dtype\": \"number\",\n        \"std\": 40,\n        \"min\": 0,\n        \"max\": 324,\n        \"num_unique_values\": 19,\n        \"samples\": [\n          1,\n          36\n        ],\n        \"semantic_type\": \"\",\n        \"description\": \"\"\n      }\n    },\n    {\n      \"column\": \"occupation\",\n      \"properties\": {\n        \"dtype\": \"number\",\n        \"std\": 2,\n        \"min\": 1,\n        \"max\": 9,\n        \"num_unique_values\": 9,\n        \"samples\": [\n          1,\n          5\n        ],\n        \"semantic_type\": \"\",\n        \"description\": \"\"\n      }\n    }\n  ]\n}"
            }
          },
          "metadata": {},
          "execution_count": 2
        }
      ]
    },
    {
      "cell_type": "markdown",
      "source": [
        "nr이 i(개인), year이 t(시간)인 패널 형태의 데이터셋인 것으로 파악된다."
      ],
      "metadata": {
        "id": "RZT_4ZhZYt-6"
      }
    },
    {
      "cell_type": "markdown",
      "source": [
        "연평균 로그 임금수준을 계산해보자."
      ],
      "metadata": {
        "id": "LI_7jqqgs44h"
      }
    },
    {
      "cell_type": "code",
      "source": [
        "df.groupby(\"year\")[\"lwage\"].mean()"
      ],
      "metadata": {
        "id": "dxcrphVGA2XG",
        "colab": {
          "base_uri": "https://localhost:8080/",
          "height": 366
        },
        "outputId": "c0f3582b-4925-4b3d-c573-1d131af0b48d"
      },
      "execution_count": 3,
      "outputs": [
        {
          "output_type": "execute_result",
          "data": {
            "text/plain": [
              "year\n",
              "1980    1.393477\n",
              "1981    1.512867\n",
              "1982    1.571667\n",
              "1983    1.619263\n",
              "1984    1.690295\n",
              "1985    1.739410\n",
              "1986    1.799719\n",
              "1987    1.866479\n",
              "Name: lwage, dtype: float64"
            ],
            "text/html": [
              "<div>\n",
              "<style scoped>\n",
              "    .dataframe tbody tr th:only-of-type {\n",
              "        vertical-align: middle;\n",
              "    }\n",
              "\n",
              "    .dataframe tbody tr th {\n",
              "        vertical-align: top;\n",
              "    }\n",
              "\n",
              "    .dataframe thead th {\n",
              "        text-align: right;\n",
              "    }\n",
              "</style>\n",
              "<table border=\"1\" class=\"dataframe\">\n",
              "  <thead>\n",
              "    <tr style=\"text-align: right;\">\n",
              "      <th></th>\n",
              "      <th>lwage</th>\n",
              "    </tr>\n",
              "    <tr>\n",
              "      <th>year</th>\n",
              "      <th></th>\n",
              "    </tr>\n",
              "  </thead>\n",
              "  <tbody>\n",
              "    <tr>\n",
              "      <th>1980</th>\n",
              "      <td>1.393477</td>\n",
              "    </tr>\n",
              "    <tr>\n",
              "      <th>1981</th>\n",
              "      <td>1.512867</td>\n",
              "    </tr>\n",
              "    <tr>\n",
              "      <th>1982</th>\n",
              "      <td>1.571667</td>\n",
              "    </tr>\n",
              "    <tr>\n",
              "      <th>1983</th>\n",
              "      <td>1.619263</td>\n",
              "    </tr>\n",
              "    <tr>\n",
              "      <th>1984</th>\n",
              "      <td>1.690295</td>\n",
              "    </tr>\n",
              "    <tr>\n",
              "      <th>1985</th>\n",
              "      <td>1.739410</td>\n",
              "    </tr>\n",
              "    <tr>\n",
              "      <th>1986</th>\n",
              "      <td>1.799719</td>\n",
              "    </tr>\n",
              "    <tr>\n",
              "      <th>1987</th>\n",
              "      <td>1.866479</td>\n",
              "    </tr>\n",
              "  </tbody>\n",
              "</table>\n",
              "</div><br><label><b>dtype:</b> float64</label>"
            ]
          },
          "metadata": {},
          "execution_count": 3
        }
      ]
    },
    {
      "cell_type": "markdown",
      "source": [
        "먼저 OLS로 회귀모형을 돌려보자."
      ],
      "metadata": {
        "id": "MHR68RzFtcBP"
      }
    },
    {
      "cell_type": "code",
      "source": [
        "mod = smf.ols(\"lwage ~ exper + union + married + hours + black + hisp + educ\", data=df).fit()\n",
        "mod.summary().tables[1]"
      ],
      "metadata": {
        "colab": {
          "base_uri": "https://localhost:8080/",
          "height": 211
        },
        "id": "hLHsDPu8BOkb",
        "outputId": "8bf045b5-877e-4033-ccce-d0bd3dcb945f"
      },
      "execution_count": 4,
      "outputs": [
        {
          "output_type": "execute_result",
          "data": {
            "text/plain": [
              "<class 'statsmodels.iolib.table.SimpleTable'>"
            ],
            "text/html": [
              "<table class=\"simpletable\">\n",
              "<tr>\n",
              "      <td></td>         <th>coef</th>     <th>std err</th>      <th>t</th>      <th>P>|t|</th>  <th>[0.025</th>    <th>0.975]</th>  \n",
              "</tr>\n",
              "<tr>\n",
              "  <th>Intercept</th> <td>    0.1259</td> <td>    0.066</td> <td>    1.901</td> <td> 0.057</td> <td>   -0.004</td> <td>    0.256</td>\n",
              "</tr>\n",
              "<tr>\n",
              "  <th>exper</th>     <td>    0.0527</td> <td>    0.003</td> <td>   17.960</td> <td> 0.000</td> <td>    0.047</td> <td>    0.058</td>\n",
              "</tr>\n",
              "<tr>\n",
              "  <th>union</th>     <td>    0.1783</td> <td>    0.017</td> <td>   10.421</td> <td> 0.000</td> <td>    0.145</td> <td>    0.212</td>\n",
              "</tr>\n",
              "<tr>\n",
              "  <th>married</th>   <td>    0.1240</td> <td>    0.016</td> <td>    7.853</td> <td> 0.000</td> <td>    0.093</td> <td>    0.155</td>\n",
              "</tr>\n",
              "<tr>\n",
              "  <th>hours</th>     <td>-6.659e-05</td> <td> 1.33e-05</td> <td>   -4.989</td> <td> 0.000</td> <td>-9.28e-05</td> <td>-4.04e-05</td>\n",
              "</tr>\n",
              "<tr>\n",
              "  <th>black</th>     <td>   -0.1412</td> <td>    0.024</td> <td>   -6.001</td> <td> 0.000</td> <td>   -0.187</td> <td>   -0.095</td>\n",
              "</tr>\n",
              "<tr>\n",
              "  <th>hisp</th>      <td>    0.0167</td> <td>    0.021</td> <td>    0.805</td> <td> 0.421</td> <td>   -0.024</td> <td>    0.057</td>\n",
              "</tr>\n",
              "<tr>\n",
              "  <th>educ</th>      <td>    0.1055</td> <td>    0.005</td> <td>   23.115</td> <td> 0.000</td> <td>    0.097</td> <td>    0.114</td>\n",
              "</tr>\n",
              "</table>"
            ],
            "text/latex": "\\begin{center}\n\\begin{tabular}{lcccccc}\n\\toprule\n                   & \\textbf{coef} & \\textbf{std err} & \\textbf{t} & \\textbf{P$> |$t$|$} & \\textbf{[0.025} & \\textbf{0.975]}  \\\\\n\\midrule\n\\textbf{Intercept} &       0.1259  &        0.066     &     1.901  &         0.057        &       -0.004    &        0.256     \\\\\n\\textbf{exper}     &       0.0527  &        0.003     &    17.960  &         0.000        &        0.047    &        0.058     \\\\\n\\textbf{union}     &       0.1783  &        0.017     &    10.421  &         0.000        &        0.145    &        0.212     \\\\\n\\textbf{married}   &       0.1240  &        0.016     &     7.853  &         0.000        &        0.093    &        0.155     \\\\\n\\textbf{hours}     &   -6.659e-05  &     1.33e-05     &    -4.989  &         0.000        &    -9.28e-05    &    -4.04e-05     \\\\\n\\textbf{black}     &      -0.1412  &        0.024     &    -6.001  &         0.000        &       -0.187    &       -0.095     \\\\\n\\textbf{hisp}      &       0.0167  &        0.021     &     0.805  &         0.421        &       -0.024    &        0.057     \\\\\n\\textbf{educ}      &       0.1055  &        0.005     &    23.115  &         0.000        &        0.097    &        0.114     \\\\\n\\bottomrule\n\\end{tabular}\n\\end{center}"
          },
          "metadata": {},
          "execution_count": 4
        }
      ]
    },
    {
      "cell_type": "markdown",
      "source": [
        "위의 모형에서 연도 더미를 추가해보자."
      ],
      "metadata": {
        "id": "kZNyEQoBtrEk"
      }
    },
    {
      "cell_type": "code",
      "source": [
        "mod = smf.ols(\"lwage ~ exper + union + married + hours + black + hisp + educ + C(year)\", data=df).fit()\n",
        "mod.summary().tables[1]"
      ],
      "metadata": {
        "id": "WNY4zlpbDDeu",
        "colab": {
          "base_uri": "https://localhost:8080/",
          "height": 361
        },
        "outputId": "3a0d128f-7743-4fd1-8df9-31634c3e6e44"
      },
      "execution_count": 5,
      "outputs": [
        {
          "output_type": "execute_result",
          "data": {
            "text/plain": [
              "<class 'statsmodels.iolib.table.SimpleTable'>"
            ],
            "text/html": [
              "<table class=\"simpletable\">\n",
              "<tr>\n",
              "         <td></td>            <th>coef</th>     <th>std err</th>      <th>t</th>      <th>P>|t|</th>  <th>[0.025</th>    <th>0.975]</th>  \n",
              "</tr>\n",
              "<tr>\n",
              "  <th>Intercept</th>       <td>    0.2750</td> <td>    0.078</td> <td>    3.509</td> <td> 0.000</td> <td>    0.121</td> <td>    0.429</td>\n",
              "</tr>\n",
              "<tr>\n",
              "  <th>C(year)[T.1981]</th> <td>    0.0834</td> <td>    0.030</td> <td>    2.821</td> <td> 0.005</td> <td>    0.025</td> <td>    0.141</td>\n",
              "</tr>\n",
              "<tr>\n",
              "  <th>C(year)[T.1982]</th> <td>    0.1040</td> <td>    0.031</td> <td>    3.354</td> <td> 0.001</td> <td>    0.043</td> <td>    0.165</td>\n",
              "</tr>\n",
              "<tr>\n",
              "  <th>C(year)[T.1983]</th> <td>    0.1182</td> <td>    0.033</td> <td>    3.545</td> <td> 0.000</td> <td>    0.053</td> <td>    0.184</td>\n",
              "</tr>\n",
              "<tr>\n",
              "  <th>C(year)[T.1984]</th> <td>    0.1539</td> <td>    0.036</td> <td>    4.239</td> <td> 0.000</td> <td>    0.083</td> <td>    0.225</td>\n",
              "</tr>\n",
              "<tr>\n",
              "  <th>C(year)[T.1985]</th> <td>    0.1729</td> <td>    0.040</td> <td>    4.348</td> <td> 0.000</td> <td>    0.095</td> <td>    0.251</td>\n",
              "</tr>\n",
              "<tr>\n",
              "  <th>C(year)[T.1986]</th> <td>    0.2019</td> <td>    0.044</td> <td>    4.627</td> <td> 0.000</td> <td>    0.116</td> <td>    0.287</td>\n",
              "</tr>\n",
              "<tr>\n",
              "  <th>C(year)[T.1987]</th> <td>    0.2262</td> <td>    0.048</td> <td>    4.735</td> <td> 0.000</td> <td>    0.133</td> <td>    0.320</td>\n",
              "</tr>\n",
              "<tr>\n",
              "  <th>exper</th>           <td>    0.0316</td> <td>    0.005</td> <td>    5.760</td> <td> 0.000</td> <td>    0.021</td> <td>    0.042</td>\n",
              "</tr>\n",
              "<tr>\n",
              "  <th>union</th>           <td>    0.1809</td> <td>    0.017</td> <td>   10.579</td> <td> 0.000</td> <td>    0.147</td> <td>    0.214</td>\n",
              "</tr>\n",
              "<tr>\n",
              "  <th>married</th>         <td>    0.1228</td> <td>    0.016</td> <td>    7.780</td> <td> 0.000</td> <td>    0.092</td> <td>    0.154</td>\n",
              "</tr>\n",
              "<tr>\n",
              "  <th>hours</th>           <td>-7.103e-05</td> <td> 1.34e-05</td> <td>   -5.317</td> <td> 0.000</td> <td>-9.72e-05</td> <td>-4.48e-05</td>\n",
              "</tr>\n",
              "<tr>\n",
              "  <th>black</th>           <td>   -0.1357</td> <td>    0.024</td> <td>   -5.771</td> <td> 0.000</td> <td>   -0.182</td> <td>   -0.090</td>\n",
              "</tr>\n",
              "<tr>\n",
              "  <th>hisp</th>            <td>    0.0180</td> <td>    0.021</td> <td>    0.866</td> <td> 0.386</td> <td>   -0.023</td> <td>    0.059</td>\n",
              "</tr>\n",
              "<tr>\n",
              "  <th>educ</th>            <td>    0.0940</td> <td>    0.005</td> <td>   18.069</td> <td> 0.000</td> <td>    0.084</td> <td>    0.104</td>\n",
              "</tr>\n",
              "</table>"
            ],
            "text/latex": "\\begin{center}\n\\begin{tabular}{lcccccc}\n\\toprule\n                         & \\textbf{coef} & \\textbf{std err} & \\textbf{t} & \\textbf{P$> |$t$|$} & \\textbf{[0.025} & \\textbf{0.975]}  \\\\\n\\midrule\n\\textbf{Intercept}       &       0.2750  &        0.078     &     3.509  &         0.000        &        0.121    &        0.429     \\\\\n\\textbf{C(year)[T.1981]} &       0.0834  &        0.030     &     2.821  &         0.005        &        0.025    &        0.141     \\\\\n\\textbf{C(year)[T.1982]} &       0.1040  &        0.031     &     3.354  &         0.001        &        0.043    &        0.165     \\\\\n\\textbf{C(year)[T.1983]} &       0.1182  &        0.033     &     3.545  &         0.000        &        0.053    &        0.184     \\\\\n\\textbf{C(year)[T.1984]} &       0.1539  &        0.036     &     4.239  &         0.000        &        0.083    &        0.225     \\\\\n\\textbf{C(year)[T.1985]} &       0.1729  &        0.040     &     4.348  &         0.000        &        0.095    &        0.251     \\\\\n\\textbf{C(year)[T.1986]} &       0.2019  &        0.044     &     4.627  &         0.000        &        0.116    &        0.287     \\\\\n\\textbf{C(year)[T.1987]} &       0.2262  &        0.048     &     4.735  &         0.000        &        0.133    &        0.320     \\\\\n\\textbf{exper}           &       0.0316  &        0.005     &     5.760  &         0.000        &        0.021    &        0.042     \\\\\n\\textbf{union}           &       0.1809  &        0.017     &    10.579  &         0.000        &        0.147    &        0.214     \\\\\n\\textbf{married}         &       0.1228  &        0.016     &     7.780  &         0.000        &        0.092    &        0.154     \\\\\n\\textbf{hours}           &   -7.103e-05  &     1.34e-05     &    -5.317  &         0.000        &    -9.72e-05    &    -4.48e-05     \\\\\n\\textbf{black}           &      -0.1357  &        0.024     &    -5.771  &         0.000        &       -0.182    &       -0.090     \\\\\n\\textbf{hisp}            &       0.0180  &        0.021     &     0.866  &         0.386        &       -0.023    &        0.059     \\\\\n\\textbf{educ}            &       0.0940  &        0.005     &    18.069  &         0.000        &        0.084    &        0.104     \\\\\n\\bottomrule\n\\end{tabular}\n\\end{center}"
          },
          "metadata": {},
          "execution_count": 5
        }
      ]
    },
    {
      "cell_type": "markdown",
      "source": [
        "고정효과를 사용하려면 panelOLS 함수를 불러온다. 일단 i와 t를 인덱스로 설정해준다.\n",
        "(nr과 year이 변수가 아닌 인덱스 처리되므로 나중에 OLS 등을 다시 돌리고 싶을 때는 df = df.reset_index() 명령어로 인덱스화 된 것을 풀어줘야 한다.)"
      ],
      "metadata": {
        "id": "QEGI5Dv-ub9g"
      }
    },
    {
      "cell_type": "code",
      "source": [
        "from linearmodels.panel import PanelOLS\n",
        "\n",
        "df=df.set_index([\"nr\", \"year\"])"
      ],
      "metadata": {
        "id": "OgvoPI9oCbIE"
      },
      "execution_count": 6,
      "outputs": []
    },
    {
      "cell_type": "markdown",
      "source": [
        "고정효과 모형은 변하지 않는 변수(성별, 인종 등)은 추정할 수 없다. 따라서 모형에서 빼준다."
      ],
      "metadata": {
        "id": "hjHW1Gc_z1b9"
      }
    },
    {
      "cell_type": "code",
      "source": [
        "mod = PanelOLS(df.lwage, df[[\"exper\", \"union\", \"married\", \"hours\"]], entity_effects=True)\n",
        "\n",
        "# 클러스터링 표준오차로 회귀 추정\n",
        "result = mod.fit(cov_type='clustered', cluster_entity=True)\n",
        "\n",
        "# 회귀계수 표 출력\n",
        "result.summary.tables[1]"
      ],
      "metadata": {
        "colab": {
          "base_uri": "https://localhost:8080/",
          "height": 143
        },
        "id": "kqD9_2lxzk_e",
        "outputId": "0281749d-1d3d-464b-bb10-dd7db66e294a"
      },
      "execution_count": 7,
      "outputs": [
        {
          "output_type": "execute_result",
          "data": {
            "text/plain": [
              "<class 'statsmodels.iolib.table.SimpleTable'>"
            ],
            "text/html": [
              "<table class=\"simpletable\">\n",
              "<caption>Parameter Estimates</caption>\n",
              "<tr>\n",
              "     <td></td>     <th>Parameter</th> <th>Std. Err.</th> <th>T-stat</th>  <th>P-value</th> <th>Lower CI</th>  <th>Upper CI</th> \n",
              "</tr>\n",
              "<tr>\n",
              "  <th>exper</th>    <td>0.0660</td>    <td>0.0034</td>   <td>19.418</td>  <td>0.0000</td>   <td>0.0594</td>    <td>0.0727</td>  \n",
              "</tr>\n",
              "<tr>\n",
              "  <th>union</th>    <td>0.0781</td>    <td>0.0228</td>   <td>3.4300</td>  <td>0.0006</td>   <td>0.0335</td>    <td>0.1228</td>  \n",
              "</tr>\n",
              "<tr>\n",
              "  <th>married</th>  <td>0.0649</td>    <td>0.0214</td>   <td>3.0355</td>  <td>0.0024</td>   <td>0.0230</td>    <td>0.1069</td>  \n",
              "</tr>\n",
              "<tr>\n",
              "  <th>hours</th>    <td>-0.0001</td>  <td>2.146e-05</td> <td>-5.4010</td> <td>0.0000</td>   <td>-0.0002</td> <td>-7.384e-05</td>\n",
              "</tr>\n",
              "</table>"
            ],
            "text/latex": "\\begin{center}\n\\begin{tabular}{lcccccc}\n\\toprule\n                 & \\textbf{Parameter} & \\textbf{Std. Err.} & \\textbf{T-stat} & \\textbf{P-value} & \\textbf{Lower CI} & \\textbf{Upper CI}  \\\\\n\\midrule\n\\textbf{exper}   &       0.0660       &       0.0034       &      19.418     &      0.0000      &       0.0594      &       0.0727       \\\\\n\\textbf{union}   &       0.0781       &       0.0228       &      3.4300     &      0.0006      &       0.0335      &       0.1228       \\\\\n\\textbf{married} &       0.0649       &       0.0214       &      3.0355     &      0.0024      &       0.0230      &       0.1069       \\\\\n\\textbf{hours}   &      -0.0001       &     2.146e-05      &     -5.4010     &      0.0000      &      -0.0002      &     -7.384e-05     \\\\\n\\bottomrule\n\\end{tabular}\n%\\caption{Parameter Estimates}\n\\end{center}"
          },
          "metadata": {},
          "execution_count": 7
        }
      ]
    },
    {
      "cell_type": "markdown",
      "source": [
        "FE에는 time effects=True까지 넣는 것이 바람직하나, 관심변수가 시간과 함께 움직이는 변수라면(exper) 추정할 수 없다. unit fixed effect 뿐만 아니라 time fixed effect를 고려하는 모델을 two-way fixed effect 모델이라고 한다. 자동으로 변수를 제거해주도록 하고 싶으면 drop_absorbed=True 옵션을 넣어준다."
      ],
      "metadata": {
        "id": "M6P60QeD0k2x"
      }
    },
    {
      "cell_type": "code",
      "source": [
        "mod = PanelOLS(df.lwage, df[[\"exper\", \"hisp\", \"union\", \"married\", \"hours\"]], entity_effects=True, drop_absorbed=True)\n",
        "\n",
        "# 클러스터링 표준오차로 회귀 추정\n",
        "result = mod.fit(cov_type='clustered', cluster_entity=True)\n",
        "\n",
        "# 회귀계수 표 출력\n",
        "summary_table=result.summary.tables[1]\n"
      ],
      "metadata": {
        "colab": {
          "base_uri": "https://localhost:8080/"
        },
        "id": "K2d2AbYgzW1d",
        "outputId": "942a7625-fe36-43b8-dfef-7be432afac89"
      },
      "execution_count": 8,
      "outputs": [
        {
          "output_type": "stream",
          "name": "stderr",
          "text": [
            "<ipython-input-8-c59aee734bc4>:4: AbsorbingEffectWarning: \n",
            "Variables have been fully absorbed and have removed from the regression:\n",
            "\n",
            "hisp\n",
            "\n",
            "  result = mod.fit(cov_type='clustered', cluster_entity=True)\n"
          ]
        }
      ]
    },
    {
      "cell_type": "markdown",
      "source": [
        "경력(exper)을 추정하고 싶다면 제곱시킨 expersq를 대신 넣어주고, entity 와 time effects를 둘 다 넣어준다."
      ],
      "metadata": {
        "id": "Mi38Rv742Eee"
      }
    },
    {
      "cell_type": "code",
      "source": [
        "mod = PanelOLS(df.lwage, df[[\"expersq\", \"union\", \"married\", \"hours\"]], entity_effects=True, drop_absorbed=True)\n",
        "\n",
        "# 클러스터링 표준오차로 회귀 추정\n",
        "result = mod.fit(cov_type='clustered', cluster_entity=True)\n",
        "\n",
        "# 회귀계수 표 출력\n",
        "result.summary.tables[1]"
      ],
      "metadata": {
        "colab": {
          "base_uri": "https://localhost:8080/",
          "height": 143
        },
        "id": "hjvNFaNc2OMT",
        "outputId": "f85e414a-37ad-4f77-c295-482009455be5"
      },
      "execution_count": 9,
      "outputs": [
        {
          "output_type": "execute_result",
          "data": {
            "text/plain": [
              "<class 'statsmodels.iolib.table.SimpleTable'>"
            ],
            "text/html": [
              "<table class=\"simpletable\">\n",
              "<caption>Parameter Estimates</caption>\n",
              "<tr>\n",
              "     <td></td>     <th>Parameter</th> <th>Std. Err.</th> <th>T-stat</th>  <th>P-value</th> <th>Lower CI</th>  <th>Upper CI</th> \n",
              "</tr>\n",
              "<tr>\n",
              "  <th>expersq</th>  <td>0.0040</td>    <td>0.0002</td>   <td>16.552</td>  <td>0.0000</td>   <td>0.0035</td>    <td>0.0044</td>  \n",
              "</tr>\n",
              "<tr>\n",
              "  <th>union</th>    <td>0.0784</td>    <td>0.0236</td>   <td>3.3225</td>  <td>0.0009</td>   <td>0.0322</td>    <td>0.1247</td>  \n",
              "</tr>\n",
              "<tr>\n",
              "  <th>married</th>  <td>0.1147</td>    <td>0.0220</td>   <td>5.2213</td>  <td>0.0000</td>   <td>0.0716</td>    <td>0.1577</td>  \n",
              "</tr>\n",
              "<tr>\n",
              "  <th>hours</th>   <td>-8.46e-05</td> <td>2.22e-05</td>  <td>-3.8105</td> <td>0.0001</td>   <td>-0.0001</td> <td>-4.107e-05</td>\n",
              "</tr>\n",
              "</table>"
            ],
            "text/latex": "\\begin{center}\n\\begin{tabular}{lcccccc}\n\\toprule\n                 & \\textbf{Parameter} & \\textbf{Std. Err.} & \\textbf{T-stat} & \\textbf{P-value} & \\textbf{Lower CI} & \\textbf{Upper CI}  \\\\\n\\midrule\n\\textbf{expersq} &       0.0040       &       0.0002       &      16.552     &      0.0000      &       0.0035      &       0.0044       \\\\\n\\textbf{union}   &       0.0784       &       0.0236       &      3.3225     &      0.0009      &       0.0322      &       0.1247       \\\\\n\\textbf{married} &       0.1147       &       0.0220       &      5.2213     &      0.0000      &       0.0716      &       0.1577       \\\\\n\\textbf{hours}   &     -8.46e-05      &      2.22e-05      &     -3.8105     &      0.0001      &      -0.0001      &     -4.107e-05     \\\\\n\\bottomrule\n\\end{tabular}\n%\\caption{Parameter Estimates}\n\\end{center}"
          },
          "metadata": {},
          "execution_count": 9
        }
      ]
    },
    {
      "cell_type": "markdown",
      "source": [
        "Random Effects를 돌려보자. RE의 장점은 시간에 따라 변하지 않는 변수를 분석할 수 있다는 것에 있다. 그렇지 않은 상황이라면 FE를 사용하는 것이 일반적이다."
      ],
      "metadata": {
        "id": "EeLCLB6i1mRt"
      }
    },
    {
      "cell_type": "code",
      "source": [
        "import statsmodels.api as sm\n",
        "#RE 불러오기\n",
        "from linearmodels.panel import RandomEffects\n",
        "\n",
        "\n",
        "# 변수 정의\n",
        "y = df[\"lwage\"]\n",
        "X = sm.add_constant(df[[\"exper\", \"union\", \"married\", \"hours\", \"black\", \"hisp\", \"educ\"]])\n",
        "\n",
        "# 랜덤효과 모형 설정\n",
        "mod = RandomEffects(y, X)\n",
        "\n",
        "# 회귀 추정\n",
        "result = mod.fit()\n",
        "\n",
        "# 결과 출력\n",
        "print(result.summary)"
      ],
      "metadata": {
        "colab": {
          "base_uri": "https://localhost:8080/"
        },
        "id": "ytwDU7nTvypW",
        "outputId": "b62b3b69-4d3d-4751-d5c5-8f9dc0b1a1e8"
      },
      "execution_count": 10,
      "outputs": [
        {
          "output_type": "stream",
          "name": "stdout",
          "text": [
            "                        RandomEffects Estimation Summary                        \n",
            "================================================================================\n",
            "Dep. Variable:                  lwage   R-squared:                        0.1821\n",
            "Estimator:              RandomEffects   R-squared (Between):              0.1786\n",
            "No. Observations:                4360   R-squared (Within):               0.1826\n",
            "Date:                Wed, Jun 04 2025   R-squared (Overall):              0.1804\n",
            "Time:                        08:14:59   Log-likelihood                   -1619.6\n",
            "Cov. Estimator:            Unadjusted                                           \n",
            "                                        F-statistic:                      138.40\n",
            "Entities:                         545   P-value                           0.0000\n",
            "Avg Obs:                       8.0000   Distribution:                  F(7,4352)\n",
            "Min Obs:                       8.0000                                           \n",
            "Max Obs:                       8.0000   F-statistic (robust):             138.40\n",
            "                                        P-value                           0.0000\n",
            "Time periods:                       8   Distribution:                  F(7,4352)\n",
            "Avg Obs:                       545.00                                           \n",
            "Min Obs:                       545.00                                           \n",
            "Max Obs:                       545.00                                           \n",
            "                                                                                \n",
            "                             Parameter Estimates                              \n",
            "==============================================================================\n",
            "            Parameter  Std. Err.     T-stat    P-value    Lower CI    Upper CI\n",
            "------------------------------------------------------------------------------\n",
            "const          0.1019     0.1120     0.9095     0.3631     -0.1177      0.3215\n",
            "exper          0.0632     0.0026     24.674     0.0000      0.0582      0.0682\n",
            "union          0.1037     0.0178     5.8250     0.0000      0.0688      0.1386\n",
            "married        0.0828     0.0167     4.9736     0.0000      0.0502      0.1155\n",
            "hours         -0.0001  1.265e-05    -8.2497     0.0000     -0.0001  -7.958e-05\n",
            "black         -0.1420     0.0477    -2.9771     0.0029     -0.2355     -0.0485\n",
            "hisp           0.0220     0.0427     0.5149     0.6067     -0.0617      0.1057\n",
            "educ           0.1118     0.0089     12.587     0.0000      0.0944      0.1292\n",
            "==============================================================================\n"
          ]
        }
      ]
    },
    {
      "cell_type": "markdown",
      "source": [
        "Hausman Test 시행하기.\n",
        "동일한 모형으로, FE와 RE 중 어떤 것이 적합한지 검정해보자."
      ],
      "metadata": {
        "id": "RvvnFT2v3LaP"
      }
    },
    {
      "cell_type": "code",
      "source": [
        "#Hausman test 정의하기\n",
        "\n",
        "from scipy.stats import chi2\n",
        "import numpy as np\n",
        "\n",
        "def hausman_test(fe_res, re_res, verbose=True):\n",
        "    b_FE = fe_res.params\n",
        "    b_RE = re_res.params\n",
        "    common = b_FE.index.intersection(b_RE.index)\n",
        "    b_diff = b_FE[common] - b_RE[common]\n",
        "    V_FE = fe_res.cov.loc[common, common]\n",
        "    V_RE = re_res.cov.loc[common, common]\n",
        "    V_diff = V_FE - V_RE\n",
        "    stat = b_diff.T @ np.linalg.inv(V_diff) @ b_diff\n",
        "    df_h = len(b_diff)\n",
        "    pval = 1 - chi2.cdf(stat, df_h)\n",
        "    if verbose:\n",
        "        print(f\"Hausman test statistic = {stat:.4f}\")\n",
        "        print(f\"Degrees of freedom = {df_h}\")\n",
        "        print(f\"P-value = {pval:.4f}\")\n"
      ],
      "metadata": {
        "id": "C1N3ls4z45TV"
      },
      "execution_count": 11,
      "outputs": []
    },
    {
      "cell_type": "code",
      "source": [
        "from linearmodels.panel import compare\n",
        "\n",
        "y = df[\"lwage\"]\n",
        "X = sm.add_constant(df[[\"expersq\", \"union\", \"married\", \"hours\"]])\n",
        "\n",
        "# 고정효과 추정\n",
        "fe_model = PanelOLS(y, X, entity_effects=True, drop_absorbed=True)\n",
        "fe_res = fe_model.fit(cov_type='unadjusted')   #Hausman 검정은 공분산 차이를 비교하므로, 조정되지 않은 표준오차를 사용한다.\n",
        "\n",
        "# 랜덤효과 추정\n",
        "re_model = RandomEffects(y, X)\n",
        "re_res = re_model.fit()\n",
        "\n",
        "# 두 모형 비교\n",
        "comparison = compare({'Fixed Effects': fe_res, 'Random Effects': re_res})\n",
        "print(comparison)"
      ],
      "metadata": {
        "colab": {
          "base_uri": "https://localhost:8080/"
        },
        "id": "2JW3sr_23KvD",
        "outputId": "3e8ac6f3-11ba-4d01-c3cc-4a4476420654"
      },
      "execution_count": 12,
      "outputs": [
        {
          "output_type": "stream",
          "name": "stdout",
          "text": [
            "                    Model Comparison                    \n",
            "========================================================\n",
            "                         Fixed Effects    Random Effects\n",
            "--------------------------------------------------------\n",
            "Dep. Variable                    lwage             lwage\n",
            "Estimator                     PanelOLS     RandomEffects\n",
            "No. Observations                  4360              4360\n",
            "Cov. Est.                   Unadjusted        Unadjusted\n",
            "R-squared                       0.1454            0.1205\n",
            "R-Squared (Within)              0.1454            0.1432\n",
            "R-Squared (Between)            -0.0844           -0.0484\n",
            "R-Squared (Overall)             0.0219            0.0402\n",
            "F-statistic                     162.14            149.21\n",
            "P-value (F-stat)                0.0000            0.0000\n",
            "=====================     ============   ===============\n",
            "const                           1.5658            1.5499\n",
            "                              (52.777)          (47.793)\n",
            "expersq                         0.0040            0.0034\n",
            "                              (20.541)          (18.425)\n",
            "union                           0.0784            0.0992\n",
            "                              (3.9857)          (5.3780)\n",
            "married                         0.1147            0.1396\n",
            "                              (6.3200)          (8.2655)\n",
            "hours                        -8.46e-05        -7.172e-05\n",
            "                             (-6.3087)         (-5.5511)\n",
            "======================= ============== =================\n",
            "Effects                         Entity                  \n",
            "--------------------------------------------------------\n",
            "\n",
            "T-stats reported in parentheses\n"
          ]
        }
      ]
    },
    {
      "cell_type": "code",
      "source": [
        "hausman_test(fe_res, re_res)"
      ],
      "metadata": {
        "colab": {
          "base_uri": "https://localhost:8080/"
        },
        "id": "0cgr7Zen6qFn",
        "outputId": "5a9cf082-1baf-48f3-cb72-7794716fff9d"
      },
      "execution_count": 13,
      "outputs": [
        {
          "output_type": "stream",
          "name": "stdout",
          "text": [
            "Hausman test statistic = 124.2773\n",
            "Degrees of freedom = 5\n",
            "P-value = 0.0000\n"
          ]
        }
      ]
    },
    {
      "cell_type": "markdown",
      "source": [
        "유의하지 않은 차이라면, 랜덤효과를 사용한다.\n",
        "예를 들어,\n",
        "p < 0.05 → 고정효과(FE) 선호\n",
        "p > 0.05 → 랜덤효과(RE) 사용 가능\n",
        "이라는 기준을 삼아도 된다.\n",
        "결과상 두 모형간 유의한 차이가 나므로, 고정효과를 사용하는 것이 낫다. 하지만 일반적으로 패널 데이터 사용시 하우스만 검정 과정을 생략하고 고정효과 모형을 채택한다."
      ],
      "metadata": {
        "id": "Pa_bWKNzY1dB"
      }
    }
  ]
}