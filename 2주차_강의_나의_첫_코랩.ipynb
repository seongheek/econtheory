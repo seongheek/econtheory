{
  "nbformat": 4,
  "nbformat_minor": 0,
  "metadata": {
    "colab": {
      "provenance": [],
      "include_colab_link": true
    },
    "kernelspec": {
      "name": "python3",
      "display_name": "Python 3"
    },
    "language_info": {
      "name": "python"
    },
    "accelerator": "GPU",
    "gpuClass": "standard"
  },
  "cells": [
    {
      "cell_type": "markdown",
      "metadata": {
        "id": "view-in-github",
        "colab_type": "text"
      },
      "source": [
        "<a href=\"https://colab.research.google.com/github/seongheek/econtheory/blob/main/2%EC%A3%BC%EC%B0%A8_%EA%B0%95%EC%9D%98_%EB%82%98%EC%9D%98_%EC%B2%AB_%EC%BD%94%EB%9E%A9.ipynb\" target=\"_parent\"><img src=\"https://colab.research.google.com/assets/colab-badge.svg\" alt=\"Open In Colab\"/></a>"
      ]
    },
    {
      "cell_type": "markdown",
      "source": [
        "## **경제학이론연구 2주차 실습**\n",
        "\n",
        "*   파이썬 맛보기 실습입니다.\n",
        "\n"
      ],
      "metadata": {
        "id": "qJmPfKPOoXb9"
      }
    },
    {
      "cell_type": "markdown",
      "source": [
        "1. 텍스트"
      ],
      "metadata": {
        "id": "9tTqlxiqVsau"
      }
    },
    {
      "cell_type": "code",
      "source": [
        "\"Hello world\" # 다음에 쓰는 말은 코드로 인식이 되지 않습니다."
      ],
      "metadata": {
        "collapsed": true,
        "id": "78kojMPQWw0M"
      },
      "execution_count": null,
      "outputs": []
    },
    {
      "cell_type": "code",
      "execution_count": null,
      "metadata": {
        "id": "ZjH_nTA4nXTJ",
        "collapsed": true
      },
      "outputs": [],
      "source": [
        "print(\"Hello world\")   #따옴표 안에 출력하고 싶은 말 쓰기."
      ]
    },
    {
      "cell_type": "markdown",
      "source": [
        "2. 산술 연산자\n"
      ],
      "metadata": {
        "id": "HQPeXNDkVwlr"
      }
    },
    {
      "cell_type": "code",
      "source": [
        "\n",
        "#산술 연산자는 숫자를 다룰 때 사용됩니다. 파이썬은 다음과 같은 산술 연산자를 지원합니다\n",
        "# : 덧셈(+), 뺄셈(-), 곱셈(*), 나눗셈(/), 나머지(%), 거듭제곱(**), 나눗셈의 몫(//) 등이 있습니다.\n",
        "\n",
        "a = 10\n",
        "b = 3\n",
        "addition = a + b\n",
        "subtraction = a - b\n",
        "multiplication = a * b\n",
        "division = a / b\n",
        "remainder = a % b\n",
        "exponentiation = a ** b\n",
        "floor_division = a // b\n",
        "\n",
        "print(addition)\n",
        "print(subtraction)\n",
        "print(multiplication)\n",
        "print(division)\n",
        "print(remainder)\n",
        "print(exponentiation)\n",
        "print(floor_division)\n"
      ],
      "metadata": {
        "id": "8dQJsXFgVf_z"
      },
      "execution_count": null,
      "outputs": []
    },
    {
      "cell_type": "code",
      "source": [
        "print(356*10)    #곱셈"
      ],
      "metadata": {
        "id": "FYdSBgV2Zh8n"
      },
      "execution_count": null,
      "outputs": []
    },
    {
      "cell_type": "code",
      "source": [
        "356*10"
      ],
      "metadata": {
        "id": "Rp2f0fc6WMzL"
      },
      "execution_count": null,
      "outputs": []
    },
    {
      "cell_type": "code",
      "source": [
        "print(356**2)  #제곱"
      ],
      "metadata": {
        "id": "1U4ApjtyYGXO"
      },
      "execution_count": null,
      "outputs": []
    },
    {
      "cell_type": "markdown",
      "source": [
        "3. 비교 연산자"
      ],
      "metadata": {
        "id": "Sdiax81bN-L7"
      }
    },
    {
      "cell_type": "code",
      "source": [
        "#비교연산자를 활용한 식이 참이면 True, 거짓이면 False가 출력됩니다.\n",
        "print(10>=3)\n",
        "print(10<=3)\n",
        "print(10==3)   # ==: 같다\n",
        "print(10!=3)   # !=. 같지 않다\n",
        "print(3%2==1)"
      ],
      "metadata": {
        "id": "Ie9lsfY8OC0a"
      },
      "execution_count": null,
      "outputs": []
    },
    {
      "cell_type": "markdown",
      "source": [
        "4. 논리 연산자"
      ],
      "metadata": {
        "id": "SBKeu5ONOqYI"
      }
    },
    {
      "cell_type": "code",
      "source": [
        "print(1==1 and 2!=1)    # True and True\n",
        "print(10%2!=0 and 1+1>0)   # False and True\n",
        "print(10<5 or 10==5)  # False or False\n",
        "print(10%2!=0 or 1+1>0)    #False or True\n",
        "print(not 10>5)   # not True --> False\n",
        "print(not 10==5)  # not False -->True\n",
        "print(not 0)  # 0은 False에 해당\n",
        "print(not 10)   # 0을 제외한 숫자 True에 해당"
      ],
      "metadata": {
        "id": "9Ki3nbovOJO8"
      },
      "execution_count": null,
      "outputs": []
    },
    {
      "cell_type": "markdown",
      "source": [
        "5. 입력, 출력, 변수 만들기"
      ],
      "metadata": {
        "id": "05_qFV6JPzJn"
      }
    },
    {
      "cell_type": "code",
      "source": [
        "# 변수 만들기. 변수 이름은 아무거나 가능 (숫자로 시작하는 것 제외)\n",
        "name='파이썬'\n",
        "print(name)"
      ],
      "metadata": {
        "id": "dBGj2Dhz9lQv"
      },
      "execution_count": null,
      "outputs": []
    },
    {
      "cell_type": "code",
      "source": [
        "name2='경제학이론연구'\n",
        "print(name2)"
      ],
      "metadata": {
        "id": "-psbfgzC96o5"
      },
      "execution_count": null,
      "outputs": []
    },
    {
      "cell_type": "code",
      "source": [
        "name='전북대'\n",
        "print(2025, name,  '화이팅!')"
      ],
      "metadata": {
        "id": "Ytx1PiGS-Hvs"
      },
      "execution_count": null,
      "outputs": []
    },
    {
      "cell_type": "code",
      "source": [
        "#input 함수\n",
        "name=input()\n",
        "print(name+'님! 안녕하세요.')"
      ],
      "metadata": {
        "id": "VRzTNlNs-S6O"
      },
      "execution_count": null,
      "outputs": []
    },
    {
      "cell_type": "code",
      "source": [
        "name=input('이름을 입력해주세요: ')\n",
        "print(name+'님 안녕하세요!')"
      ],
      "metadata": {
        "id": "6B400Cyn-cDk"
      },
      "execution_count": null,
      "outputs": []
    },
    {
      "cell_type": "code",
      "source": [
        "#오류찾기\n",
        "age=input('나이를 입력해주세요: ')\n",
        "print(age-4)"
      ],
      "metadata": {
        "id": "t0OrZYEG_qhb"
      },
      "execution_count": null,
      "outputs": []
    },
    {
      "cell_type": "code",
      "source": [
        "age=input('나이를 입력해주세요: ')\n",
        "print(int(age)-4)"
      ],
      "metadata": {
        "id": "apo_3wlU_3lS"
      },
      "execution_count": null,
      "outputs": []
    },
    {
      "cell_type": "code",
      "source": [
        "#오류찾기\n",
        "name=input('이름을 입력하세요: ')\n",
        "age=int(input('나이를 입력하세요: '))\n",
        "print('안녕하세요,', name+'님! 저는 처음에 '+(age-4)+'살인 줄 알았어요!')"
      ],
      "metadata": {
        "id": "Ib8G0Y5GAXUr"
      },
      "execution_count": null,
      "outputs": []
    },
    {
      "cell_type": "code",
      "source": [
        "name=input('이름을 입력하세요: ')\n",
        "age=int(input('나이를 입력하세요: '))\n",
        "print('안녕하세요,', name+'님! 저는 처음에 '+str(age-4)+'살인 줄 알았어요!')"
      ],
      "metadata": {
        "id": "yI0-Hv4pACeN"
      },
      "execution_count": null,
      "outputs": []
    },
    {
      "cell_type": "code",
      "source": [],
      "metadata": {
        "id": "mw2NNGflA8eA"
      },
      "execution_count": null,
      "outputs": []
    }
  ]
}