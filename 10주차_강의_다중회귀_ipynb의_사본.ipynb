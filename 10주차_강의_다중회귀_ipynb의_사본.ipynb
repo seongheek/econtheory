{
  "nbformat": 4,
  "nbformat_minor": 0,
  "metadata": {
    "colab": {
      "provenance": [],
      "authorship_tag": "ABX9TyPNbHvreedJFfvK8K3SYBBf",
      "include_colab_link": true
    },
    "kernelspec": {
      "name": "python3",
      "display_name": "Python 3"
    },
    "language_info": {
      "name": "python"
    }
  },
  "cells": [
    {
      "cell_type": "markdown",
      "metadata": {
        "id": "view-in-github",
        "colab_type": "text"
      },
      "source": [
        "<a href=\"https://colab.research.google.com/github/seongheek/econtheory/blob/main/10%EC%A3%BC%EC%B0%A8_%EA%B0%95%EC%9D%98_%EB%8B%A4%EC%A4%91%ED%9A%8C%EA%B7%80_ipynb%EC%9D%98_%EC%82%AC%EB%B3%B8.ipynb\" target=\"_parent\"><img src=\"https://colab.research.google.com/assets/colab-badge.svg\" alt=\"Open In Colab\"/></a>"
      ]
    },
    {
      "cell_type": "markdown",
      "source": [
        "# **다중회귀분석**\n",
        "누락변수오차를 확인하기 위해 다음의 데이터를 불러오자."
      ],
      "metadata": {
        "id": "N43iTosIz0Il"
      }
    },
    {
      "cell_type": "code",
      "source": [
        "import pandas as pd\n",
        "import numpy as np\n",
        "import statsmodels.api as sm\n",
        "import statsmodels.formula.api as smf\n",
        "\n",
        "# 온라인에서 wooldridge의 wage1 데이터를 가져오기\n",
        "url = \"https://vincentarelbundock.github.io/Rdatasets/csv/wooldridge/wage1.csv\"\n",
        "df = pd.read_csv(url)\n",
        "\n",
        "# 데이터 확인\n",
        "print(df[['wage', 'educ', 'exper', 'female']].head())"
      ],
      "metadata": {
        "colab": {
          "base_uri": "https://localhost:8080/"
        },
        "id": "NccR7zAlVGR3",
        "outputId": "0feaf608-862e-41f7-aad3-cc81bc004850"
      },
      "execution_count": 5,
      "outputs": [
        {
          "output_type": "stream",
          "name": "stdout",
          "text": [
            "   wage  educ  exper  female\n",
            "0  3.10    11      2       1\n",
            "1  3.24    12     22       1\n",
            "2  3.00    11      2       0\n",
            "3  6.00     8     44       0\n",
            "4  5.30    12      7       0\n"
          ]
        }
      ]
    },
    {
      "cell_type": "code",
      "source": [
        "# 로그 임금(Y)과 학력(X1)의 관계 회귀\n",
        "import statsmodels.formula.api as smf\n",
        "model = smf.ols('np.log(wage) ~ educ ', data=df).fit()\n",
        "print(model.summary())"
      ],
      "metadata": {
        "colab": {
          "base_uri": "https://localhost:8080/"
        },
        "id": "JQKUs1_uVLW8",
        "outputId": "4a06d02e-cf3b-4afd-c623-edf95ffaae97"
      },
      "execution_count": 6,
      "outputs": [
        {
          "output_type": "stream",
          "name": "stdout",
          "text": [
            "                            OLS Regression Results                            \n",
            "==============================================================================\n",
            "Dep. Variable:           np.log(wage)   R-squared:                       0.186\n",
            "Model:                            OLS   Adj. R-squared:                  0.184\n",
            "Method:                 Least Squares   F-statistic:                     119.6\n",
            "Date:                Wed, 07 May 2025   Prob (F-statistic):           3.27e-25\n",
            "Time:                        07:19:31   Log-Likelihood:                -359.38\n",
            "No. Observations:                 526   AIC:                             722.8\n",
            "Df Residuals:                     524   BIC:                             731.3\n",
            "Df Model:                           1                                         \n",
            "Covariance Type:            nonrobust                                         \n",
            "==============================================================================\n",
            "                 coef    std err          t      P>|t|      [0.025      0.975]\n",
            "------------------------------------------------------------------------------\n",
            "Intercept      0.5838      0.097      5.998      0.000       0.393       0.775\n",
            "educ           0.0827      0.008     10.935      0.000       0.068       0.098\n",
            "==============================================================================\n",
            "Omnibus:                       11.804   Durbin-Watson:                   1.801\n",
            "Prob(Omnibus):                  0.003   Jarque-Bera (JB):               13.811\n",
            "Skew:                           0.268   Prob(JB):                      0.00100\n",
            "Kurtosis:                       3.586   Cond. No.                         60.2\n",
            "==============================================================================\n",
            "\n",
            "Notes:\n",
            "[1] Standard Errors assume that the covariance matrix of the errors is correctly specified.\n"
          ]
        }
      ]
    },
    {
      "cell_type": "code",
      "source": [
        "# 로그 임금(Y)과 학력(X1), 경력(X2)의 관계 회귀\n",
        "model = smf.ols('np.log(wage) ~ educ + exper', data=df).fit()\n",
        "print(model.summary())"
      ],
      "metadata": {
        "colab": {
          "base_uri": "https://localhost:8080/"
        },
        "id": "bPRDFgiRV6MO",
        "outputId": "c63aeb09-5634-4121-a037-a0317ef72c20"
      },
      "execution_count": 7,
      "outputs": [
        {
          "output_type": "stream",
          "name": "stdout",
          "text": [
            "                            OLS Regression Results                            \n",
            "==============================================================================\n",
            "Dep. Variable:           np.log(wage)   R-squared:                       0.249\n",
            "Model:                            OLS   Adj. R-squared:                  0.246\n",
            "Method:                 Least Squares   F-statistic:                     86.86\n",
            "Date:                Wed, 07 May 2025   Prob (F-statistic):           2.68e-33\n",
            "Time:                        07:19:33   Log-Likelihood:                -338.01\n",
            "No. Observations:                 526   AIC:                             682.0\n",
            "Df Residuals:                     523   BIC:                             694.8\n",
            "Df Model:                           2                                         \n",
            "Covariance Type:            nonrobust                                         \n",
            "==============================================================================\n",
            "                 coef    std err          t      P>|t|      [0.025      0.975]\n",
            "------------------------------------------------------------------------------\n",
            "Intercept      0.2169      0.109      1.997      0.046       0.004       0.430\n",
            "educ           0.0979      0.008     12.848      0.000       0.083       0.113\n",
            "exper          0.0103      0.002      6.653      0.000       0.007       0.013\n",
            "==============================================================================\n",
            "Omnibus:                        7.740   Durbin-Watson:                   1.789\n",
            "Prob(Omnibus):                  0.021   Jarque-Bera (JB):                9.485\n",
            "Skew:                           0.165   Prob(JB):                      0.00872\n",
            "Kurtosis:                       3.569   Cond. No.                         130.\n",
            "==============================================================================\n",
            "\n",
            "Notes:\n",
            "[1] Standard Errors assume that the covariance matrix of the errors is correctly specified.\n"
          ]
        }
      ]
    },
    {
      "cell_type": "markdown",
      "source": [
        "베타1의 추정량: 0.098,\n",
        "베타2의 추정량: 0.010 이 나왔다.\n",
        "X2를 X1에 대해 회귀해보자."
      ],
      "metadata": {
        "id": "LWzVGrk8XESO"
      }
    },
    {
      "cell_type": "code",
      "source": [
        "model = smf.ols('exper ~ educ ', data=df).fit()\n",
        "print(model.summary())"
      ],
      "metadata": {
        "colab": {
          "base_uri": "https://localhost:8080/"
        },
        "id": "fMeL7g3gWJLf",
        "outputId": "c1ca874c-a15c-433b-f2aa-414b6d841073"
      },
      "execution_count": 8,
      "outputs": [
        {
          "output_type": "stream",
          "name": "stdout",
          "text": [
            "                            OLS Regression Results                            \n",
            "==============================================================================\n",
            "Dep. Variable:                  exper   R-squared:                       0.090\n",
            "Model:                            OLS   Adj. R-squared:                  0.088\n",
            "Method:                 Least Squares   F-statistic:                     51.65\n",
            "Date:                Wed, 07 May 2025   Prob (F-statistic):           2.30e-12\n",
            "Time:                        07:19:35   Log-Likelihood:                -2093.0\n",
            "No. Observations:                 526   AIC:                             4190.\n",
            "Df Residuals:                     524   BIC:                             4198.\n",
            "Df Model:                           1                                         \n",
            "Covariance Type:            nonrobust                                         \n",
            "==============================================================================\n",
            "                 coef    std err          t      P>|t|      [0.025      0.975]\n",
            "------------------------------------------------------------------------------\n",
            "Intercept     35.4615      2.628     13.494      0.000      30.299      40.624\n",
            "educ          -1.4682      0.204     -7.187      0.000      -1.870      -1.067\n",
            "==============================================================================\n",
            "Omnibus:                       49.360   Durbin-Watson:                   1.957\n",
            "Prob(Omnibus):                  0.000   Jarque-Bera (JB):               35.932\n",
            "Skew:                           0.534   Prob(JB):                     1.58e-08\n",
            "Kurtosis:                       2.292   Cond. No.                         60.2\n",
            "==============================================================================\n",
            "\n",
            "Notes:\n",
            "[1] Standard Errors assume that the covariance matrix of the errors is correctly specified.\n"
          ]
        }
      ]
    },
    {
      "cell_type": "markdown",
      "source": [
        "델타는 -1.47이 나왔다.\n",
        "\n",
        "총효과=0.083=0.098+0.010*(-1.47) 이 확인된다."
      ],
      "metadata": {
        "id": "gZIXXkWFXSkw"
      }
    },
    {
      "cell_type": "markdown",
      "source": [
        "다시 경제이해력 데이터를 사용하여 분석해보자."
      ],
      "metadata": {
        "id": "Zig1DZkEajJv"
      }
    },
    {
      "cell_type": "code",
      "execution_count": 9,
      "metadata": {
        "id": "ZvpJDW3AzvC5"
      },
      "outputs": [],
      "source": [
        "#데이터 불러오고 전처리\n",
        "import pandas as pd\n",
        "import numpy as np\n",
        "\n",
        "df=pd.read_excel('econliteracy (1).xlsx', index_col=0)\n",
        "\n",
        "df = df.rename(columns={'sq1': 'gender', 'sq2': 'age', 'sq3': 'region', 'sq4': 'job', 'sq5': 'edu', 'sq6': 'income'})  #열 이름 바꾸기\n",
        "\n",
        "df=df.dropna(subset=['gender'])        #성별 정보가 누락된 샘플 제거\n",
        "\n",
        "# 변수정리\n",
        "\n",
        "df['gender'] = df['gender'].replace(2, 0)\n",
        "df['income'] = df['income'].replace(8, 7)\n",
        "df['job'] = df['job'].replace(6, 5)\n",
        "df['edu'] = df['edu'].replace(1, 2)\n",
        "df['region2'] = df['region'].apply(\n",
        "    lambda x: 1 if x in [1, 4, 9]\n",
        "    else 2 if x in [6, 7, 8, 10, 11, 12]\n",
        "    else 3 if x in [2, 3, 7, 15, 16]\n",
        "    else 4 if x in [5, 13, 14]\n",
        "    else None\n",
        ")\n",
        "\n"
      ]
    },
    {
      "cell_type": "markdown",
      "source": [
        "경제이해력을 종속변수로 놓고, 교차항을 만들어보자."
      ],
      "metadata": {
        "id": "jV_KLqaVJ_4Y"
      }
    },
    {
      "cell_type": "code",
      "source": [
        "import statsmodels.formula.api as smf\n",
        "model = smf.ols('score ~ age + I(age**2) + gender+ edu + gender*edu', data=df).fit()\n",
        "print(model.summary())"
      ],
      "metadata": {
        "colab": {
          "base_uri": "https://localhost:8080/"
        },
        "id": "6n-CwfaJIpDi",
        "outputId": "f18e2fe2-704c-4c76-9dae-4b2aa936cdfc"
      },
      "execution_count": 10,
      "outputs": [
        {
          "output_type": "stream",
          "name": "stdout",
          "text": [
            "                            OLS Regression Results                            \n",
            "==============================================================================\n",
            "Dep. Variable:                  score   R-squared:                       0.126\n",
            "Model:                            OLS   Adj. R-squared:                  0.111\n",
            "Method:                 Least Squares   F-statistic:                     8.413\n",
            "Date:                Wed, 07 May 2025   Prob (F-statistic):           1.89e-07\n",
            "Time:                        07:19:47   Log-Likelihood:                -1287.6\n",
            "No. Observations:                 297   AIC:                             2587.\n",
            "Df Residuals:                     291   BIC:                             2609.\n",
            "Df Model:                           5                                         \n",
            "Covariance Type:            nonrobust                                         \n",
            "===============================================================================\n",
            "                  coef    std err          t      P>|t|      [0.025      0.975]\n",
            "-------------------------------------------------------------------------------\n",
            "Intercept       4.2499     15.167      0.280      0.780     -25.602      34.101\n",
            "age             1.3126      0.466      2.815      0.005       0.395       2.230\n",
            "I(age ** 2)    -0.0140      0.005     -2.903      0.004      -0.023      -0.004\n",
            "gender         -1.9311     10.987     -0.176      0.861     -23.555      19.693\n",
            "edu             9.5771      3.671      2.609      0.010       2.352      16.802\n",
            "gender:edu      2.3200      4.368      0.531      0.596      -6.278      10.918\n",
            "==============================================================================\n",
            "Omnibus:                        7.615   Durbin-Watson:                   1.867\n",
            "Prob(Omnibus):                  0.022   Jarque-Bera (JB):                5.625\n",
            "Skew:                          -0.219   Prob(JB):                       0.0601\n",
            "Kurtosis:                       2.487   Cond. No.                     4.68e+04\n",
            "==============================================================================\n",
            "\n",
            "Notes:\n",
            "[1] Standard Errors assume that the covariance matrix of the errors is correctly specified.\n",
            "[2] The condition number is large, 4.68e+04. This might indicate that there are\n",
            "strong multicollinearity or other numerical problems.\n"
          ]
        }
      ]
    },
    {
      "cell_type": "code",
      "source": [
        "# 범주형으로 변환\n",
        "df['gender'] = df['gender'].astype('category')\n",
        "df['edu'] = df['edu'].astype('category')\n",
        "df['region2'] = df['region2'].astype('category')\n",
        "\n",
        "model = smf.ols('score ~ age + I(age**2) + gender*region2', data=df).fit()\n",
        "print(model.summary())"
      ],
      "metadata": {
        "colab": {
          "base_uri": "https://localhost:8080/"
        },
        "id": "gTCJ-9CuJFc3",
        "outputId": "798a7ba5-9346-42f0-eebd-0f7c2373b334"
      },
      "execution_count": 11,
      "outputs": [
        {
          "output_type": "stream",
          "name": "stdout",
          "text": [
            "                            OLS Regression Results                            \n",
            "==============================================================================\n",
            "Dep. Variable:                  score   R-squared:                       0.110\n",
            "Model:                            OLS   Adj. R-squared:                  0.082\n",
            "Method:                 Least Squares   F-statistic:                     3.937\n",
            "Date:                Wed, 07 May 2025   Prob (F-statistic):           9.65e-05\n",
            "Time:                        07:19:50   Log-Likelihood:                -1290.4\n",
            "No. Observations:                 297   AIC:                             2601.\n",
            "Df Residuals:                     287   BIC:                             2638.\n",
            "Df Model:                           9                                         \n",
            "Covariance Type:            nonrobust                                         \n",
            "==============================================================================================\n",
            "                                 coef    std err          t      P>|t|      [0.025      0.975]\n",
            "----------------------------------------------------------------------------------------------\n",
            "Intercept                     38.3807     11.082      3.463      0.001      16.568      60.193\n",
            "gender[T.1.0]                  1.4372      3.103      0.463      0.644      -4.671       7.545\n",
            "region2[T.2]                 -10.0113      4.411     -2.270      0.024     -18.693      -1.329\n",
            "region2[T.3]                  -8.9309      4.072     -2.193      0.029     -16.946      -0.916\n",
            "region2[T.4]                  -0.9827      7.108     -0.138      0.890     -14.973      13.008\n",
            "gender[T.1.0]:region2[T.2]     5.7943      5.951      0.974      0.331      -5.919      17.507\n",
            "gender[T.1.0]:region2[T.3]     9.6765      5.582      1.734      0.084      -1.310      20.663\n",
            "gender[T.1.0]:region2[T.4]    -1.2670      9.112     -0.139      0.890     -19.202      16.668\n",
            "age                            1.2731      0.480      2.653      0.008       0.328       2.218\n",
            "I(age ** 2)                   -0.0159      0.005     -3.209      0.001      -0.026      -0.006\n",
            "==============================================================================\n",
            "Omnibus:                       15.445   Durbin-Watson:                   1.829\n",
            "Prob(Omnibus):                  0.000   Jarque-Bera (JB):                7.770\n",
            "Skew:                          -0.185   Prob(JB):                       0.0206\n",
            "Kurtosis:                       2.299   Cond. No.                     3.29e+04\n",
            "==============================================================================\n",
            "\n",
            "Notes:\n",
            "[1] Standard Errors assume that the covariance matrix of the errors is correctly specified.\n",
            "[2] The condition number is large, 3.29e+04. This might indicate that there are\n",
            "strong multicollinearity or other numerical problems.\n"
          ]
        }
      ]
    },
    {
      "cell_type": "markdown",
      "source": [
        "카테고리 변수의 준거집단(reference group)을 바꾸고 싶다면 treatment 옵션을 사용하면 된다."
      ],
      "metadata": {
        "id": "mMWy76Fa9LPc"
      }
    },
    {
      "cell_type": "code",
      "source": [
        "model = smf.ols(\n",
        "    'score ~ C(gender) * C(region2, Treatment(reference=4))',\n",
        "    data=df\n",
        ").fit()\n",
        "\n",
        "print(model.summary())"
      ],
      "metadata": {
        "colab": {
          "base_uri": "https://localhost:8080/"
        },
        "id": "6THP7W7b6VE8",
        "outputId": "8a05bfbd-a5e9-42f6-f6ce-ce5fd5a9b1f2"
      },
      "execution_count": 12,
      "outputs": [
        {
          "output_type": "stream",
          "name": "stdout",
          "text": [
            "                            OLS Regression Results                            \n",
            "==============================================================================\n",
            "Dep. Variable:                  score   R-squared:                       0.041\n",
            "Model:                            OLS   Adj. R-squared:                  0.018\n",
            "Method:                 Least Squares   F-statistic:                     1.787\n",
            "Date:                Wed, 07 May 2025   Prob (F-statistic):             0.0895\n",
            "Time:                        07:19:52   Log-Likelihood:                -1301.4\n",
            "No. Observations:                 297   AIC:                             2619.\n",
            "Df Residuals:                     289   BIC:                             2648.\n",
            "Df Model:                           7                                         \n",
            "Covariance Type:            nonrobust                                         \n",
            "============================================================================================================================\n",
            "                                                               coef    std err          t      P>|t|      [0.025      0.975]\n",
            "----------------------------------------------------------------------------------------------------------------------------\n",
            "Intercept                                                   55.6250      6.936      8.019      0.000      41.973      69.277\n",
            "C(gender)[T.1.0]                                            -0.6250      8.816     -0.071      0.944     -17.977      16.727\n",
            "C(region2, Treatment(reference=4))[T.1]                      3.6216      7.307      0.496      0.621     -10.759      18.003\n",
            "C(region2, Treatment(reference=4))[T.2]                     -5.8250      7.969     -0.731      0.465     -21.510       9.860\n",
            "C(region2, Treatment(reference=4))[T.3]                     -5.4637      7.780     -0.702      0.483     -20.777       9.849\n",
            "C(gender)[T.1.0]:C(region2, Treatment(reference=4))[T.1]     2.8070      9.381      0.299      0.765     -15.656      21.270\n",
            "C(gender)[T.1.0]:C(region2, Treatment(reference=4))[T.2]     7.0750     10.254      0.690      0.491     -13.107      27.257\n",
            "C(gender)[T.1.0]:C(region2, Treatment(reference=4))[T.3]     9.5427     10.013      0.953      0.341     -10.166      29.251\n",
            "==============================================================================\n",
            "Omnibus:                       19.559   Durbin-Watson:                   1.851\n",
            "Prob(Omnibus):                  0.000   Jarque-Bera (JB):                7.675\n",
            "Skew:                          -0.074   Prob(JB):                       0.0216\n",
            "Kurtosis:                       2.227   Cond. No.                         26.0\n",
            "==============================================================================\n",
            "\n",
            "Notes:\n",
            "[1] Standard Errors assume that the covariance matrix of the errors is correctly specified.\n"
          ]
        }
      ]
    },
    {
      "cell_type": "markdown",
      "source": [
        "황선호, 김성희(2024) 처럼 경제이해력 점수에 대한 회귀분석을 해보자."
      ],
      "metadata": {
        "id": "i_7Un1OpUMPz"
      }
    },
    {
      "cell_type": "code",
      "source": [
        "df = df.rename(columns={'A4_A': 'channel', 'A5_A': 'econedu'})  #열 이름 바꾸기"
      ],
      "metadata": {
        "id": "dNSrgnmNUwJD"
      },
      "execution_count": 13,
      "outputs": []
    },
    {
      "cell_type": "code",
      "source": [
        "#보기 6~8 4로 통합\n",
        "df['channel'] = df['channel'].replace(7, 4)\n",
        "df['channel'] = df['channel'].replace(8, 4)\n",
        "df['channel'] = df['channel'].replace(6, 4)\n",
        "df['channel'].value_counts().sort_index()\n",
        "\n",
        "#소득 카테고리 줄이기\n",
        "df['income'] = df['income'].replace(7, 6)\n",
        "df['income'] = df['income'].replace(1, 2)\n",
        "\n",
        "#직업 카테고리 줄이기\n",
        "df['job'] = df['job'].replace(4, 3)\n",
        "df['job'] = df['job'].replace(6, 5)\n",
        "df['job'] = df['job'].replace(8, 7)\n",
        "df['job'] = df['job'].replace(9, 7)\n",
        "\n",
        "#학교밖 경제교육경험 더미\n",
        "df['econedu'] = df['econedu'].replace(2, 0)\n"
      ],
      "metadata": {
        "id": "hyrD9vx0U_OX"
      },
      "execution_count": 14,
      "outputs": []
    },
    {
      "cell_type": "code",
      "source": [
        "# 2x2 교차표\n",
        "import pandas as pd\n",
        "\n",
        "pd.crosstab(df['channel'], df['ssq2'], margins=True, rownames=['Channel'], colnames=['Agegroup'])    #비율 보고 싶을 때는 margins=True 옵션"
      ],
      "metadata": {
        "colab": {
          "base_uri": "https://localhost:8080/",
          "height": 269
        },
        "id": "NTvGJYmulrup",
        "outputId": "137eb1fd-5df6-490a-a062-46c8966a5a4f"
      },
      "execution_count": 15,
      "outputs": [
        {
          "output_type": "execute_result",
          "data": {
            "text/plain": [
              "Agegroup   2   3   4   5   6   7  All\n",
              "Channel                              \n",
              "1         10   6  22  31  46  22  137\n",
              "2          1   0   3   3   3   1   11\n",
              "3         35  24  26  16   9   2  112\n",
              "4          8   6   8   4   3   2   31\n",
              "5          1   0   3   1   1   0    6\n",
              "All       55  36  62  55  62  27  297"
            ],
            "text/html": [
              "\n",
              "  <div id=\"df-118c5655-a8a1-40a8-b072-b1ff98bf2da0\" class=\"colab-df-container\">\n",
              "    <div>\n",
              "<style scoped>\n",
              "    .dataframe tbody tr th:only-of-type {\n",
              "        vertical-align: middle;\n",
              "    }\n",
              "\n",
              "    .dataframe tbody tr th {\n",
              "        vertical-align: top;\n",
              "    }\n",
              "\n",
              "    .dataframe thead th {\n",
              "        text-align: right;\n",
              "    }\n",
              "</style>\n",
              "<table border=\"1\" class=\"dataframe\">\n",
              "  <thead>\n",
              "    <tr style=\"text-align: right;\">\n",
              "      <th>Agegroup</th>\n",
              "      <th>2</th>\n",
              "      <th>3</th>\n",
              "      <th>4</th>\n",
              "      <th>5</th>\n",
              "      <th>6</th>\n",
              "      <th>7</th>\n",
              "      <th>All</th>\n",
              "    </tr>\n",
              "    <tr>\n",
              "      <th>Channel</th>\n",
              "      <th></th>\n",
              "      <th></th>\n",
              "      <th></th>\n",
              "      <th></th>\n",
              "      <th></th>\n",
              "      <th></th>\n",
              "      <th></th>\n",
              "    </tr>\n",
              "  </thead>\n",
              "  <tbody>\n",
              "    <tr>\n",
              "      <th>1</th>\n",
              "      <td>10</td>\n",
              "      <td>6</td>\n",
              "      <td>22</td>\n",
              "      <td>31</td>\n",
              "      <td>46</td>\n",
              "      <td>22</td>\n",
              "      <td>137</td>\n",
              "    </tr>\n",
              "    <tr>\n",
              "      <th>2</th>\n",
              "      <td>1</td>\n",
              "      <td>0</td>\n",
              "      <td>3</td>\n",
              "      <td>3</td>\n",
              "      <td>3</td>\n",
              "      <td>1</td>\n",
              "      <td>11</td>\n",
              "    </tr>\n",
              "    <tr>\n",
              "      <th>3</th>\n",
              "      <td>35</td>\n",
              "      <td>24</td>\n",
              "      <td>26</td>\n",
              "      <td>16</td>\n",
              "      <td>9</td>\n",
              "      <td>2</td>\n",
              "      <td>112</td>\n",
              "    </tr>\n",
              "    <tr>\n",
              "      <th>4</th>\n",
              "      <td>8</td>\n",
              "      <td>6</td>\n",
              "      <td>8</td>\n",
              "      <td>4</td>\n",
              "      <td>3</td>\n",
              "      <td>2</td>\n",
              "      <td>31</td>\n",
              "    </tr>\n",
              "    <tr>\n",
              "      <th>5</th>\n",
              "      <td>1</td>\n",
              "      <td>0</td>\n",
              "      <td>3</td>\n",
              "      <td>1</td>\n",
              "      <td>1</td>\n",
              "      <td>0</td>\n",
              "      <td>6</td>\n",
              "    </tr>\n",
              "    <tr>\n",
              "      <th>All</th>\n",
              "      <td>55</td>\n",
              "      <td>36</td>\n",
              "      <td>62</td>\n",
              "      <td>55</td>\n",
              "      <td>62</td>\n",
              "      <td>27</td>\n",
              "      <td>297</td>\n",
              "    </tr>\n",
              "  </tbody>\n",
              "</table>\n",
              "</div>\n",
              "    <div class=\"colab-df-buttons\">\n",
              "\n",
              "  <div class=\"colab-df-container\">\n",
              "    <button class=\"colab-df-convert\" onclick=\"convertToInteractive('df-118c5655-a8a1-40a8-b072-b1ff98bf2da0')\"\n",
              "            title=\"Convert this dataframe to an interactive table.\"\n",
              "            style=\"display:none;\">\n",
              "\n",
              "  <svg xmlns=\"http://www.w3.org/2000/svg\" height=\"24px\" viewBox=\"0 -960 960 960\">\n",
              "    <path d=\"M120-120v-720h720v720H120Zm60-500h600v-160H180v160Zm220 220h160v-160H400v160Zm0 220h160v-160H400v160ZM180-400h160v-160H180v160Zm440 0h160v-160H620v160ZM180-180h160v-160H180v160Zm440 0h160v-160H620v160Z\"/>\n",
              "  </svg>\n",
              "    </button>\n",
              "\n",
              "  <style>\n",
              "    .colab-df-container {\n",
              "      display:flex;\n",
              "      gap: 12px;\n",
              "    }\n",
              "\n",
              "    .colab-df-convert {\n",
              "      background-color: #E8F0FE;\n",
              "      border: none;\n",
              "      border-radius: 50%;\n",
              "      cursor: pointer;\n",
              "      display: none;\n",
              "      fill: #1967D2;\n",
              "      height: 32px;\n",
              "      padding: 0 0 0 0;\n",
              "      width: 32px;\n",
              "    }\n",
              "\n",
              "    .colab-df-convert:hover {\n",
              "      background-color: #E2EBFA;\n",
              "      box-shadow: 0px 1px 2px rgba(60, 64, 67, 0.3), 0px 1px 3px 1px rgba(60, 64, 67, 0.15);\n",
              "      fill: #174EA6;\n",
              "    }\n",
              "\n",
              "    .colab-df-buttons div {\n",
              "      margin-bottom: 4px;\n",
              "    }\n",
              "\n",
              "    [theme=dark] .colab-df-convert {\n",
              "      background-color: #3B4455;\n",
              "      fill: #D2E3FC;\n",
              "    }\n",
              "\n",
              "    [theme=dark] .colab-df-convert:hover {\n",
              "      background-color: #434B5C;\n",
              "      box-shadow: 0px 1px 3px 1px rgba(0, 0, 0, 0.15);\n",
              "      filter: drop-shadow(0px 1px 2px rgba(0, 0, 0, 0.3));\n",
              "      fill: #FFFFFF;\n",
              "    }\n",
              "  </style>\n",
              "\n",
              "    <script>\n",
              "      const buttonEl =\n",
              "        document.querySelector('#df-118c5655-a8a1-40a8-b072-b1ff98bf2da0 button.colab-df-convert');\n",
              "      buttonEl.style.display =\n",
              "        google.colab.kernel.accessAllowed ? 'block' : 'none';\n",
              "\n",
              "      async function convertToInteractive(key) {\n",
              "        const element = document.querySelector('#df-118c5655-a8a1-40a8-b072-b1ff98bf2da0');\n",
              "        const dataTable =\n",
              "          await google.colab.kernel.invokeFunction('convertToInteractive',\n",
              "                                                    [key], {});\n",
              "        if (!dataTable) return;\n",
              "\n",
              "        const docLinkHtml = 'Like what you see? Visit the ' +\n",
              "          '<a target=\"_blank\" href=https://colab.research.google.com/notebooks/data_table.ipynb>data table notebook</a>'\n",
              "          + ' to learn more about interactive tables.';\n",
              "        element.innerHTML = '';\n",
              "        dataTable['output_type'] = 'display_data';\n",
              "        await google.colab.output.renderOutput(dataTable, element);\n",
              "        const docLink = document.createElement('div');\n",
              "        docLink.innerHTML = docLinkHtml;\n",
              "        element.appendChild(docLink);\n",
              "      }\n",
              "    </script>\n",
              "  </div>\n",
              "\n",
              "\n",
              "    <div id=\"df-16d5c6b9-dd16-4b40-a4c5-079b0b725c08\">\n",
              "      <button class=\"colab-df-quickchart\" onclick=\"quickchart('df-16d5c6b9-dd16-4b40-a4c5-079b0b725c08')\"\n",
              "                title=\"Suggest charts\"\n",
              "                style=\"display:none;\">\n",
              "\n",
              "<svg xmlns=\"http://www.w3.org/2000/svg\" height=\"24px\"viewBox=\"0 0 24 24\"\n",
              "     width=\"24px\">\n",
              "    <g>\n",
              "        <path d=\"M19 3H5c-1.1 0-2 .9-2 2v14c0 1.1.9 2 2 2h14c1.1 0 2-.9 2-2V5c0-1.1-.9-2-2-2zM9 17H7v-7h2v7zm4 0h-2V7h2v10zm4 0h-2v-4h2v4z\"/>\n",
              "    </g>\n",
              "</svg>\n",
              "      </button>\n",
              "\n",
              "<style>\n",
              "  .colab-df-quickchart {\n",
              "      --bg-color: #E8F0FE;\n",
              "      --fill-color: #1967D2;\n",
              "      --hover-bg-color: #E2EBFA;\n",
              "      --hover-fill-color: #174EA6;\n",
              "      --disabled-fill-color: #AAA;\n",
              "      --disabled-bg-color: #DDD;\n",
              "  }\n",
              "\n",
              "  [theme=dark] .colab-df-quickchart {\n",
              "      --bg-color: #3B4455;\n",
              "      --fill-color: #D2E3FC;\n",
              "      --hover-bg-color: #434B5C;\n",
              "      --hover-fill-color: #FFFFFF;\n",
              "      --disabled-bg-color: #3B4455;\n",
              "      --disabled-fill-color: #666;\n",
              "  }\n",
              "\n",
              "  .colab-df-quickchart {\n",
              "    background-color: var(--bg-color);\n",
              "    border: none;\n",
              "    border-radius: 50%;\n",
              "    cursor: pointer;\n",
              "    display: none;\n",
              "    fill: var(--fill-color);\n",
              "    height: 32px;\n",
              "    padding: 0;\n",
              "    width: 32px;\n",
              "  }\n",
              "\n",
              "  .colab-df-quickchart:hover {\n",
              "    background-color: var(--hover-bg-color);\n",
              "    box-shadow: 0 1px 2px rgba(60, 64, 67, 0.3), 0 1px 3px 1px rgba(60, 64, 67, 0.15);\n",
              "    fill: var(--button-hover-fill-color);\n",
              "  }\n",
              "\n",
              "  .colab-df-quickchart-complete:disabled,\n",
              "  .colab-df-quickchart-complete:disabled:hover {\n",
              "    background-color: var(--disabled-bg-color);\n",
              "    fill: var(--disabled-fill-color);\n",
              "    box-shadow: none;\n",
              "  }\n",
              "\n",
              "  .colab-df-spinner {\n",
              "    border: 2px solid var(--fill-color);\n",
              "    border-color: transparent;\n",
              "    border-bottom-color: var(--fill-color);\n",
              "    animation:\n",
              "      spin 1s steps(1) infinite;\n",
              "  }\n",
              "\n",
              "  @keyframes spin {\n",
              "    0% {\n",
              "      border-color: transparent;\n",
              "      border-bottom-color: var(--fill-color);\n",
              "      border-left-color: var(--fill-color);\n",
              "    }\n",
              "    20% {\n",
              "      border-color: transparent;\n",
              "      border-left-color: var(--fill-color);\n",
              "      border-top-color: var(--fill-color);\n",
              "    }\n",
              "    30% {\n",
              "      border-color: transparent;\n",
              "      border-left-color: var(--fill-color);\n",
              "      border-top-color: var(--fill-color);\n",
              "      border-right-color: var(--fill-color);\n",
              "    }\n",
              "    40% {\n",
              "      border-color: transparent;\n",
              "      border-right-color: var(--fill-color);\n",
              "      border-top-color: var(--fill-color);\n",
              "    }\n",
              "    60% {\n",
              "      border-color: transparent;\n",
              "      border-right-color: var(--fill-color);\n",
              "    }\n",
              "    80% {\n",
              "      border-color: transparent;\n",
              "      border-right-color: var(--fill-color);\n",
              "      border-bottom-color: var(--fill-color);\n",
              "    }\n",
              "    90% {\n",
              "      border-color: transparent;\n",
              "      border-bottom-color: var(--fill-color);\n",
              "    }\n",
              "  }\n",
              "</style>\n",
              "\n",
              "      <script>\n",
              "        async function quickchart(key) {\n",
              "          const quickchartButtonEl =\n",
              "            document.querySelector('#' + key + ' button');\n",
              "          quickchartButtonEl.disabled = true;  // To prevent multiple clicks.\n",
              "          quickchartButtonEl.classList.add('colab-df-spinner');\n",
              "          try {\n",
              "            const charts = await google.colab.kernel.invokeFunction(\n",
              "                'suggestCharts', [key], {});\n",
              "          } catch (error) {\n",
              "            console.error('Error during call to suggestCharts:', error);\n",
              "          }\n",
              "          quickchartButtonEl.classList.remove('colab-df-spinner');\n",
              "          quickchartButtonEl.classList.add('colab-df-quickchart-complete');\n",
              "        }\n",
              "        (() => {\n",
              "          let quickchartButtonEl =\n",
              "            document.querySelector('#df-16d5c6b9-dd16-4b40-a4c5-079b0b725c08 button');\n",
              "          quickchartButtonEl.style.display =\n",
              "            google.colab.kernel.accessAllowed ? 'block' : 'none';\n",
              "        })();\n",
              "      </script>\n",
              "    </div>\n",
              "\n",
              "    </div>\n",
              "  </div>\n"
            ],
            "application/vnd.google.colaboratory.intrinsic+json": {
              "type": "dataframe",
              "summary": "{\n  \"name\": \"pd\",\n  \"rows\": 6,\n  \"fields\": [\n    {\n      \"column\": \"Channel\",\n      \"properties\": {\n        \"dtype\": \"string\",\n        \"num_unique_values\": 6,\n        \"samples\": [\n          1,\n          2,\n          \"All\"\n        ],\n        \"semantic_type\": \"\",\n        \"description\": \"\"\n      }\n    },\n    {\n      \"column\": 2,\n      \"properties\": {\n        \"dtype\": \"number\",\n        \"std\": 21,\n        \"min\": 1,\n        \"max\": 55,\n        \"num_unique_values\": 5,\n        \"samples\": [\n          1,\n          55,\n          35\n        ],\n        \"semantic_type\": \"\",\n        \"description\": \"\"\n      }\n    },\n    {\n      \"column\": 3,\n      \"properties\": {\n        \"dtype\": \"number\",\n        \"std\": 14,\n        \"min\": 0,\n        \"max\": 36,\n        \"num_unique_values\": 4,\n        \"samples\": [\n          0,\n          36,\n          6\n        ],\n        \"semantic_type\": \"\",\n        \"description\": \"\"\n      }\n    },\n    {\n      \"column\": 4,\n      \"properties\": {\n        \"dtype\": \"number\",\n        \"std\": 22,\n        \"min\": 3,\n        \"max\": 62,\n        \"num_unique_values\": 5,\n        \"samples\": [\n          3,\n          62,\n          26\n        ],\n        \"semantic_type\": \"\",\n        \"description\": \"\"\n      }\n    },\n    {\n      \"column\": 5,\n      \"properties\": {\n        \"dtype\": \"number\",\n        \"std\": 21,\n        \"min\": 1,\n        \"max\": 55,\n        \"num_unique_values\": 6,\n        \"samples\": [\n          31,\n          3,\n          55\n        ],\n        \"semantic_type\": \"\",\n        \"description\": \"\"\n      }\n    },\n    {\n      \"column\": 6,\n      \"properties\": {\n        \"dtype\": \"number\",\n        \"std\": 26,\n        \"min\": 1,\n        \"max\": 62,\n        \"num_unique_values\": 5,\n        \"samples\": [\n          3,\n          62,\n          9\n        ],\n        \"semantic_type\": \"\",\n        \"description\": \"\"\n      }\n    },\n    {\n      \"column\": 7,\n      \"properties\": {\n        \"dtype\": \"number\",\n        \"std\": 12,\n        \"min\": 0,\n        \"max\": 27,\n        \"num_unique_values\": 5,\n        \"samples\": [\n          1,\n          27,\n          2\n        ],\n        \"semantic_type\": \"\",\n        \"description\": \"\"\n      }\n    },\n    {\n      \"column\": \"All\",\n      \"properties\": {\n        \"dtype\": \"number\",\n        \"std\": 111,\n        \"min\": 6,\n        \"max\": 297,\n        \"num_unique_values\": 6,\n        \"samples\": [\n          137,\n          11,\n          297\n        ],\n        \"semantic_type\": \"\",\n        \"description\": \"\"\n      }\n    }\n  ]\n}"
            }
          },
          "metadata": {},
          "execution_count": 15
        }
      ]
    },
    {
      "cell_type": "code",
      "source": [
        "import statsmodels.formula.api as smf\n",
        "model = smf.ols('score ~ C(channel) + age + I(age**2) + gender+ edu + econedu+ C(income)+C(job, Treatment(reference=7))+C(region2)', data=df).fit()\n",
        "print(model.summary())"
      ],
      "metadata": {
        "colab": {
          "base_uri": "https://localhost:8080/"
        },
        "id": "F7qjYqM_grr5",
        "outputId": "488e3271-9751-4c45-ff65-fc9d2a90f658"
      },
      "execution_count": 16,
      "outputs": [
        {
          "output_type": "stream",
          "name": "stdout",
          "text": [
            "                            OLS Regression Results                            \n",
            "==============================================================================\n",
            "Dep. Variable:                  score   R-squared:                       0.175\n",
            "Model:                            OLS   Adj. R-squared:                  0.115\n",
            "Method:                 Least Squares   F-statistic:                     2.926\n",
            "Date:                Wed, 07 May 2025   Prob (F-statistic):           4.45e-05\n",
            "Time:                        07:19:59   Log-Likelihood:                -1279.1\n",
            "No. Observations:                 297   AIC:                             2600.\n",
            "Df Residuals:                     276   BIC:                             2678.\n",
            "Df Model:                          20                                         \n",
            "Covariance Type:            nonrobust                                         \n",
            "=======================================================================================================\n",
            "                                          coef    std err          t      P>|t|      [0.025      0.975]\n",
            "-------------------------------------------------------------------------------------------------------\n",
            "Intercept                              19.7653     12.163      1.625      0.105      -4.179      43.710\n",
            "C(channel)[T.2]                        -3.2303      5.982     -0.540      0.590     -15.006       8.546\n",
            "C(channel)[T.3]                         6.3752      2.837      2.247      0.025       0.790      11.960\n",
            "C(channel)[T.4]                         3.8448      4.007      0.959      0.338      -4.044      11.734\n",
            "C(channel)[T.5]                        -3.0602      8.216     -0.372      0.710     -19.233      13.113\n",
            "gender[T.1.0]                           4.2722      2.497      1.711      0.088      -0.643       9.187\n",
            "edu[T.3]                                8.6345      3.208      2.692      0.008       2.320      14.949\n",
            "C(income)[T.3]                          2.3571      4.512      0.522      0.602      -6.525      11.239\n",
            "C(income)[T.4]                          3.3237      4.667      0.712      0.477      -5.863      12.510\n",
            "C(income)[T.5]                         -2.3728      5.046     -0.470      0.639     -12.307       7.561\n",
            "C(income)[T.6]                         -0.4845      5.267     -0.092      0.927     -10.852       9.883\n",
            "C(job, Treatment(reference=7))[T.1]    -1.4422      7.056     -0.204      0.838     -15.333      12.449\n",
            "C(job, Treatment(reference=7))[T.2]     0.3247      5.037      0.064      0.949      -9.591      10.240\n",
            "C(job, Treatment(reference=7))[T.3]    -2.9178      4.330     -0.674      0.501     -11.441       5.606\n",
            "C(job, Treatment(reference=7))[T.5]    -0.6533      4.977     -0.131      0.896     -10.451       9.144\n",
            "C(region2)[T.2]                        -5.5572      3.070     -1.810      0.071     -11.601       0.487\n",
            "C(region2)[T.3]                        -3.4516      2.879     -1.199      0.232      -9.120       2.216\n",
            "C(region2)[T.4]                        -1.2234      4.602     -0.266      0.791     -10.282       7.835\n",
            "age                                     1.3879      0.529      2.621      0.009       0.346       2.430\n",
            "I(age ** 2)                            -0.0141      0.006     -2.526      0.012      -0.025      -0.003\n",
            "econedu                                 5.2566      7.367      0.713      0.476      -9.247      19.760\n",
            "==============================================================================\n",
            "Omnibus:                        4.083   Durbin-Watson:                   1.845\n",
            "Prob(Omnibus):                  0.130   Jarque-Bera (JB):                4.018\n",
            "Skew:                          -0.245   Prob(JB):                        0.134\n",
            "Kurtosis:                       2.708   Cond. No.                     3.48e+04\n",
            "==============================================================================\n",
            "\n",
            "Notes:\n",
            "[1] Standard Errors assume that the covariance matrix of the errors is correctly specified.\n",
            "[2] The condition number is large, 3.48e+04. This might indicate that there are\n",
            "strong multicollinearity or other numerical problems.\n"
          ]
        }
      ]
    },
    {
      "cell_type": "markdown",
      "source": [
        "지식취득경로와 성별의 교차항을 더해보자."
      ],
      "metadata": {
        "id": "Dmwuwy_QibOW"
      }
    },
    {
      "cell_type": "code",
      "source": [
        "import statsmodels.formula.api as smf\n",
        "model = smf.ols('score ~ C(channel)*gender + age + I(age**2) + gender+ edu + econedu+ C(income)+C(job, Treatment(reference=7))+C(region2)', data=df).fit()\n",
        "print(model.summary())"
      ],
      "metadata": {
        "colab": {
          "base_uri": "https://localhost:8080/"
        },
        "id": "psCAVQrdiT78",
        "outputId": "c8ddbea0-1fcd-4e5b-ba44-2e6ea5eed80d"
      },
      "execution_count": 17,
      "outputs": [
        {
          "output_type": "stream",
          "name": "stdout",
          "text": [
            "                            OLS Regression Results                            \n",
            "==============================================================================\n",
            "Dep. Variable:                  score   R-squared:                       0.178\n",
            "Model:                            OLS   Adj. R-squared:                  0.106\n",
            "Method:                 Least Squares   F-statistic:                     2.461\n",
            "Date:                Wed, 07 May 2025   Prob (F-statistic):           0.000263\n",
            "Time:                        07:20:03   Log-Likelihood:                -1278.5\n",
            "No. Observations:                 297   AIC:                             2607.\n",
            "Df Residuals:                     272   BIC:                             2699.\n",
            "Df Model:                          24                                         \n",
            "Covariance Type:            nonrobust                                         \n",
            "=======================================================================================================\n",
            "                                          coef    std err          t      P>|t|      [0.025      0.975]\n",
            "-------------------------------------------------------------------------------------------------------\n",
            "Intercept                              20.5908     12.315      1.672      0.096      -3.655      44.836\n",
            "C(channel)[T.2]                        -4.3719     11.186     -0.391      0.696     -26.393      17.649\n",
            "C(channel)[T.3]                         4.3637      3.823      1.142      0.255      -3.162      11.889\n",
            "C(channel)[T.4]                         5.3895      5.962      0.904      0.367      -6.348      17.127\n",
            "C(channel)[T.5]                        -1.2741     10.378     -0.123      0.902     -21.705      19.156\n",
            "gender[T.1.0]                           3.0357      3.569      0.851      0.396      -3.990      10.061\n",
            "edu[T.3]                                8.5792      3.228      2.657      0.008       2.223      14.935\n",
            "C(income)[T.3]                          2.3605      4.537      0.520      0.603      -6.571      11.292\n",
            "C(income)[T.4]                          2.9498      4.728      0.624      0.533      -6.359      12.259\n",
            "C(income)[T.5]                         -2.1479      5.111     -0.420      0.675     -12.210       7.915\n",
            "C(income)[T.6]                         -0.5660      5.335     -0.106      0.916     -11.069       9.937\n",
            "C(job, Treatment(reference=7))[T.1]    -1.4961      7.187     -0.208      0.835     -15.645      12.653\n",
            "C(job, Treatment(reference=7))[T.2]     0.6404      5.086      0.126      0.900      -9.372      10.653\n",
            "C(job, Treatment(reference=7))[T.3]    -2.5971      4.371     -0.594      0.553     -11.203       6.009\n",
            "C(job, Treatment(reference=7))[T.5]    -0.4326      5.033     -0.086      0.932     -10.342       9.477\n",
            "C(region2)[T.2]                        -5.4841      3.183     -1.723      0.086     -11.750       0.782\n",
            "C(region2)[T.3]                        -3.2578      2.922     -1.115      0.266      -9.010       2.494\n",
            "C(region2)[T.4]                        -0.8350      4.676     -0.179      0.858     -10.041       8.371\n",
            "C(channel)[T.2]:gender[T.1.0]           2.0922     13.341      0.157      0.875     -24.172      28.356\n",
            "C(channel)[T.3]:gender[T.1.0]           3.9492      4.962      0.796      0.427      -5.819      13.718\n",
            "C(channel)[T.4]:gender[T.1.0]          -2.2403      7.683     -0.292      0.771     -17.366      12.885\n",
            "C(channel)[T.5]:gender[T.1.0]          -6.0218     17.188     -0.350      0.726     -39.860      27.816\n",
            "age                                     1.3675      0.536      2.549      0.011       0.311       2.424\n",
            "I(age ** 2)                            -0.0139      0.006     -2.452      0.015      -0.025      -0.003\n",
            "econedu                                 4.5503      7.438      0.612      0.541     -10.093      19.194\n",
            "==============================================================================\n",
            "Omnibus:                        4.206   Durbin-Watson:                   1.847\n",
            "Prob(Omnibus):                  0.122   Jarque-Bera (JB):                4.195\n",
            "Skew:                          -0.257   Prob(JB):                        0.123\n",
            "Kurtosis:                       2.728   Cond. No.                     5.27e+04\n",
            "==============================================================================\n",
            "\n",
            "Notes:\n",
            "[1] Standard Errors assume that the covariance matrix of the errors is correctly specified.\n",
            "[2] The condition number is large, 5.27e+04. This might indicate that there are\n",
            "strong multicollinearity or other numerical problems.\n"
          ]
        }
      ]
    },
    {
      "cell_type": "markdown",
      "source": [
        "# 다음 수업내용 맛보기: 더미 종속변수일 때"
      ],
      "metadata": {
        "id": "7XKrLviBlFGp"
      }
    },
    {
      "cell_type": "code",
      "source": [
        "import statsmodels.formula.api as smf\n",
        "model = smf.ols('econedu ~ age + I(age**2) + gender+ edu + C(income)+C(job, Treatment(reference=7))+C(region2)', data=df).fit()\n",
        "print(model.summary())"
      ],
      "metadata": {
        "colab": {
          "base_uri": "https://localhost:8080/"
        },
        "id": "ejnCQENZlLjR",
        "outputId": "d8772765-d968-49c4-afbe-bb1adde4d7bc"
      },
      "execution_count": 18,
      "outputs": [
        {
          "output_type": "stream",
          "name": "stdout",
          "text": [
            "                            OLS Regression Results                            \n",
            "==============================================================================\n",
            "Dep. Variable:                econedu   R-squared:                       0.050\n",
            "Model:                            OLS   Adj. R-squared:                 -0.001\n",
            "Method:                 Least Squares   F-statistic:                    0.9766\n",
            "Date:                Wed, 07 May 2025   Prob (F-statistic):              0.480\n",
            "Time:                        07:20:05   Log-Likelihood:                 146.21\n",
            "No. Observations:                 297   AIC:                            -260.4\n",
            "Df Residuals:                     281   BIC:                            -201.3\n",
            "Df Model:                          15                                         \n",
            "Covariance Type:            nonrobust                                         \n",
            "=======================================================================================================\n",
            "                                          coef    std err          t      P>|t|      [0.025      0.975]\n",
            "-------------------------------------------------------------------------------------------------------\n",
            "Intercept                               0.1272      0.097      1.305      0.193      -0.065       0.319\n",
            "gender[T.1.0]                           0.0260      0.020      1.280      0.202      -0.014       0.066\n",
            "edu[T.3]                                0.0045      0.026      0.173      0.863      -0.047       0.055\n",
            "C(income)[T.3]                         -0.0091      0.037     -0.248      0.804      -0.081       0.063\n",
            "C(income)[T.4]                         -0.0180      0.038     -0.478      0.633      -0.092       0.056\n",
            "C(income)[T.5]                          0.0192      0.041      0.472      0.637      -0.061       0.099\n",
            "C(income)[T.6]                         -0.0063      0.043     -0.148      0.882      -0.091       0.078\n",
            "C(job, Treatment(reference=7))[T.1]    -0.0425      0.057     -0.740      0.460      -0.156       0.071\n",
            "C(job, Treatment(reference=7))[T.2]    -0.0247      0.041     -0.607      0.545      -0.105       0.056\n",
            "C(job, Treatment(reference=7))[T.3]    -0.0272      0.035     -0.774      0.440      -0.096       0.042\n",
            "C(job, Treatment(reference=7))[T.5]     0.0103      0.040      0.255      0.799      -0.069       0.090\n",
            "C(region2)[T.2]                        -0.0245      0.024     -1.001      0.318      -0.073       0.024\n",
            "C(region2)[T.3]                         0.0104      0.023      0.449      0.653      -0.035       0.056\n",
            "C(region2)[T.4]                         0.0335      0.037      0.905      0.366      -0.039       0.107\n",
            "age                                    -0.0034      0.004     -0.799      0.425      -0.012       0.005\n",
            "I(age ** 2)                          2.511e-05   4.55e-05      0.552      0.581   -6.44e-05       0.000\n",
            "==============================================================================\n",
            "Omnibus:                      366.305   Durbin-Watson:                   1.937\n",
            "Prob(Omnibus):                  0.000   Jarque-Bera (JB):            15833.380\n",
            "Skew:                           5.816   Prob(JB):                         0.00\n",
            "Kurtosis:                      36.825   Cond. No.                     3.40e+04\n",
            "==============================================================================\n",
            "\n",
            "Notes:\n",
            "[1] Standard Errors assume that the covariance matrix of the errors is correctly specified.\n",
            "[2] The condition number is large, 3.4e+04. This might indicate that there are\n",
            "strong multicollinearity or other numerical problems.\n"
          ]
        }
      ]
    }
  ]
}