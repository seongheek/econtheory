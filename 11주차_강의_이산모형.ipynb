{
  "nbformat": 4,
  "nbformat_minor": 0,
  "metadata": {
    "colab": {
      "provenance": [],
      "authorship_tag": "ABX9TyOJZxQMdmBjtKaj4CuESiSc",
      "include_colab_link": true
    },
    "kernelspec": {
      "name": "python3",
      "display_name": "Python 3"
    },
    "language_info": {
      "name": "python"
    }
  },
  "cells": [
    {
      "cell_type": "markdown",
      "metadata": {
        "id": "view-in-github",
        "colab_type": "text"
      },
      "source": [
        "<a href=\"https://colab.research.google.com/github/seongheek/econtheory/blob/main/11%EC%A3%BC%EC%B0%A8_%EA%B0%95%EC%9D%98_%EC%9D%B4%EC%82%B0%EB%AA%A8%ED%98%95.ipynb\" target=\"_parent\"><img src=\"https://colab.research.google.com/assets/colab-badge.svg\" alt=\"Open In Colab\"/></a>"
      ]
    },
    {
      "cell_type": "markdown",
      "source": [
        "## **이항반응모형 분석**\n",
        "LPM, 로짓, 프로빗을 분석해보자.\n"
      ],
      "metadata": {
        "id": "UnlMSS-1ecvI"
      }
    },
    {
      "cell_type": "markdown",
      "source": [
        "경제이해력 데이터를 사용하여 분석해보자."
      ],
      "metadata": {
        "id": "Zig1DZkEajJv"
      }
    },
    {
      "cell_type": "code",
      "execution_count": 1,
      "metadata": {
        "id": "ZvpJDW3AzvC5"
      },
      "outputs": [],
      "source": [
        "#데이터 불러오고 전처리\n",
        "import pandas as pd\n",
        "import numpy as np\n",
        "\n",
        "df=pd.read_excel('econliteracy.xlsx', index_col=0)\n",
        "\n",
        "df = df.rename(columns={'sq1': 'gender', 'sq2': 'age', 'sq3': 'region', 'sq4': 'job', 'sq5': 'edu', 'sq6': 'income'})  #열 이름 바꾸기\n",
        "df = df.rename(columns={'A4_A': 'channel', 'A5_A': 'econedu'})  #열 이름 바꾸기\n",
        "df=df.dropna(subset=['gender'])        #성별 정보가 누락된 샘플 제거\n",
        "\n",
        "# 변수정리\n",
        "\n",
        "df['gender'] = df['gender'].replace(2, 0)\n",
        "df['income'] = df['income'].replace(8, 7)\n",
        "df['job'] = df['job'].replace(6, 5)\n",
        "df['edu'] = df['edu'].replace(1, 2)\n",
        "df['region2'] = df['region'].apply(\n",
        "    lambda x: 1 if x in [1, 4, 9]\n",
        "    else 2 if x in [6, 7, 8, 10, 11, 12]\n",
        "    else 3 if x in [2, 3, 7, 15, 16]\n",
        "    else 4 if x in [5, 13, 14]\n",
        "    else None\n",
        ")\n",
        "#보기 6~8 4로 통합\n",
        "df['channel'] = df['channel'].replace(7, 4)\n",
        "df['channel'] = df['channel'].replace(8, 4)\n",
        "df['channel'] = df['channel'].replace(6, 4)\n",
        "df['channel'].value_counts().sort_index()\n",
        "\n",
        "#소득 카테고리 줄이기\n",
        "df['income'] = df['income'].replace(7, 6)\n",
        "df['income'] = df['income'].replace(1, 2)\n",
        "\n",
        "#직업 카테고리 줄이기\n",
        "df['job'] = df['job'].replace(4, 3)\n",
        "df['job'] = df['job'].replace(6, 5)\n",
        "df['job'] = df['job'].replace(8, 7)\n",
        "df['job'] = df['job'].replace(9, 7)\n",
        "\n",
        "#학교밖 경제교육경험 더미\n",
        "df['econedu'] = df['econedu'].replace(2, 0)\n"
      ]
    },
    {
      "cell_type": "code",
      "source": [
        "#목돈투자시 예금 여부 더미를 생성해보자.\n",
        "df['save'] = df['A9_A'].apply(lambda x: 1 if x in [1] else 0)\n",
        "df['save'].describe()"
      ],
      "metadata": {
        "colab": {
          "base_uri": "https://localhost:8080/",
          "height": 335
        },
        "id": "4dXZo9nlu_ka",
        "outputId": "7ea2dc31-51e2-4e1d-8e49-5bb46e15da93"
      },
      "execution_count": 2,
      "outputs": [
        {
          "output_type": "execute_result",
          "data": {
            "text/plain": [
              "count    297.000000\n",
              "mean       0.434343\n",
              "std        0.496507\n",
              "min        0.000000\n",
              "25%        0.000000\n",
              "50%        0.000000\n",
              "75%        1.000000\n",
              "max        1.000000\n",
              "Name: save, dtype: float64"
            ],
            "text/html": [
              "<div>\n",
              "<style scoped>\n",
              "    .dataframe tbody tr th:only-of-type {\n",
              "        vertical-align: middle;\n",
              "    }\n",
              "\n",
              "    .dataframe tbody tr th {\n",
              "        vertical-align: top;\n",
              "    }\n",
              "\n",
              "    .dataframe thead th {\n",
              "        text-align: right;\n",
              "    }\n",
              "</style>\n",
              "<table border=\"1\" class=\"dataframe\">\n",
              "  <thead>\n",
              "    <tr style=\"text-align: right;\">\n",
              "      <th></th>\n",
              "      <th>save</th>\n",
              "    </tr>\n",
              "  </thead>\n",
              "  <tbody>\n",
              "    <tr>\n",
              "      <th>count</th>\n",
              "      <td>297.000000</td>\n",
              "    </tr>\n",
              "    <tr>\n",
              "      <th>mean</th>\n",
              "      <td>0.434343</td>\n",
              "    </tr>\n",
              "    <tr>\n",
              "      <th>std</th>\n",
              "      <td>0.496507</td>\n",
              "    </tr>\n",
              "    <tr>\n",
              "      <th>min</th>\n",
              "      <td>0.000000</td>\n",
              "    </tr>\n",
              "    <tr>\n",
              "      <th>25%</th>\n",
              "      <td>0.000000</td>\n",
              "    </tr>\n",
              "    <tr>\n",
              "      <th>50%</th>\n",
              "      <td>0.000000</td>\n",
              "    </tr>\n",
              "    <tr>\n",
              "      <th>75%</th>\n",
              "      <td>1.000000</td>\n",
              "    </tr>\n",
              "    <tr>\n",
              "      <th>max</th>\n",
              "      <td>1.000000</td>\n",
              "    </tr>\n",
              "  </tbody>\n",
              "</table>\n",
              "</div><br><label><b>dtype:</b> float64</label>"
            ]
          },
          "metadata": {},
          "execution_count": 2
        }
      ]
    },
    {
      "cell_type": "markdown",
      "source": [
        "# LPM 모형"
      ],
      "metadata": {
        "id": "MvjPNh2-ep4U"
      }
    },
    {
      "cell_type": "code",
      "source": [
        "import statsmodels.formula.api as smf\n",
        "model = smf.ols('save ~ age + I(age**2) + gender+ edu + C(channel)', data=df).fit()\n",
        "print(model.summary())"
      ],
      "metadata": {
        "colab": {
          "base_uri": "https://localhost:8080/"
        },
        "id": "ejnCQENZlLjR",
        "outputId": "fd39c6ce-7d6c-4f0f-f69a-ea1e8620edc4"
      },
      "execution_count": 3,
      "outputs": [
        {
          "output_type": "stream",
          "name": "stdout",
          "text": [
            "                            OLS Regression Results                            \n",
            "==============================================================================\n",
            "Dep. Variable:                   save   R-squared:                       0.101\n",
            "Model:                            OLS   Adj. R-squared:                  0.076\n",
            "Method:                 Least Squares   F-statistic:                     4.031\n",
            "Date:                Wed, 14 May 2025   Prob (F-statistic):           0.000147\n",
            "Time:                        08:19:55   Log-Likelihood:                -197.22\n",
            "No. Observations:                 297   AIC:                             412.4\n",
            "Df Residuals:                     288   BIC:                             445.7\n",
            "Df Model:                           8                                         \n",
            "Covariance Type:            nonrobust                                         \n",
            "===================================================================================\n",
            "                      coef    std err          t      P>|t|      [0.025      0.975]\n",
            "-----------------------------------------------------------------------------------\n",
            "Intercept           1.1737      0.353      3.324      0.001       0.479       1.869\n",
            "C(channel)[T.2]    -0.3367      0.150     -2.241      0.026      -0.632      -0.041\n",
            "C(channel)[T.3]    -0.0919      0.070     -1.308      0.192      -0.230       0.046\n",
            "C(channel)[T.4]    -0.1794      0.099     -1.808      0.072      -0.375       0.016\n",
            "C(channel)[T.5]     0.0638      0.202      0.316      0.752      -0.333       0.460\n",
            "age                -0.0325      0.012     -2.719      0.007      -0.056      -0.009\n",
            "I(age ** 2)         0.0004      0.000      3.107      0.002       0.000       0.001\n",
            "gender             -0.0143      0.056     -0.255      0.799      -0.125       0.096\n",
            "edu                -0.0354      0.072     -0.491      0.624      -0.177       0.107\n",
            "==============================================================================\n",
            "Omnibus:                     2988.421   Durbin-Watson:                   1.921\n",
            "Prob(Omnibus):                  0.000   Jarque-Bera (JB):               33.268\n",
            "Skew:                           0.290   Prob(JB):                     5.97e-08\n",
            "Kurtosis:                       1.466   Cond. No.                     3.88e+04\n",
            "==============================================================================\n",
            "\n",
            "Notes:\n",
            "[1] Standard Errors assume that the covariance matrix of the errors is correctly specified.\n",
            "[2] The condition number is large, 3.88e+04. This might indicate that there are\n",
            "strong multicollinearity or other numerical problems.\n"
          ]
        }
      ]
    },
    {
      "cell_type": "markdown",
      "source": [
        "# 로짓 모형"
      ],
      "metadata": {
        "id": "lan3bs_KewpD"
      }
    },
    {
      "cell_type": "code",
      "source": [
        "import statsmodels.formula.api as smf\n",
        "model = smf.logit('save ~ age + I(age**2) + gender+ edu + C(channel)', data=df).fit()\n",
        "print(model.summary())"
      ],
      "metadata": {
        "id": "vWL4ttDSe5AU",
        "colab": {
          "base_uri": "https://localhost:8080/"
        },
        "outputId": "0d47ba4c-cc25-463a-edbc-9870dc4b3af0"
      },
      "execution_count": 4,
      "outputs": [
        {
          "output_type": "stream",
          "name": "stdout",
          "text": [
            "Optimization terminated successfully.\n",
            "         Current function value: 0.631936\n",
            "         Iterations 6\n",
            "                           Logit Regression Results                           \n",
            "==============================================================================\n",
            "Dep. Variable:                   save   No. Observations:                  297\n",
            "Model:                          Logit   Df Residuals:                      288\n",
            "Method:                           MLE   Df Model:                            8\n",
            "Date:                Wed, 14 May 2025   Pseudo R-squ.:                 0.07679\n",
            "Time:                        08:19:57   Log-Likelihood:                -187.68\n",
            "converged:                       True   LL-Null:                       -203.30\n",
            "Covariance Type:            nonrobust   LLR p-value:                 0.0001282\n",
            "===================================================================================\n",
            "                      coef    std err          z      P>|z|      [0.025      0.975]\n",
            "-----------------------------------------------------------------------------------\n",
            "Intercept           3.0660      1.585      1.935      0.053      -0.040       6.172\n",
            "C(channel)[T.2]    -1.6922      0.825     -2.051      0.040      -3.309      -0.075\n",
            "C(channel)[T.3]    -0.3813      0.306     -1.247      0.212      -0.981       0.218\n",
            "C(channel)[T.4]    -0.8047      0.458     -1.757      0.079      -1.702       0.093\n",
            "C(channel)[T.5]     0.2823      0.854      0.331      0.741      -1.392       1.956\n",
            "age                -0.1471      0.055     -2.697      0.007      -0.254      -0.040\n",
            "I(age ** 2)         0.0017      0.001      3.030      0.002       0.001       0.003\n",
            "gender             -0.0536      0.249     -0.215      0.830      -0.542       0.435\n",
            "edu                -0.1569      0.322     -0.487      0.626      -0.788       0.475\n",
            "===================================================================================\n"
          ]
        }
      ]
    },
    {
      "cell_type": "code",
      "source": [
        "# 계수 추출\n",
        "coefficients = model.params\n",
        "\n",
        "# 오즈비 (odds ratio)\n",
        "odds_ratios = np.exp(coefficients)\n",
        "\n",
        "print(odds_ratios)"
      ],
      "metadata": {
        "id": "4_1yE3FFfH2L",
        "colab": {
          "base_uri": "https://localhost:8080/"
        },
        "outputId": "201dde0b-f598-4ef1-9ea1-74e0f28ffeb1"
      },
      "execution_count": 5,
      "outputs": [
        {
          "output_type": "stream",
          "name": "stdout",
          "text": [
            "Intercept          21.454983\n",
            "C(channel)[T.2]     0.184115\n",
            "C(channel)[T.3]     0.682971\n",
            "C(channel)[T.4]     0.447234\n",
            "C(channel)[T.5]     1.326148\n",
            "age                 0.863197\n",
            "I(age ** 2)         1.001731\n",
            "gender              0.947849\n",
            "edu                 0.854768\n",
            "dtype: float64\n"
          ]
        }
      ]
    },
    {
      "cell_type": "markdown",
      "source": [
        "# 프로빗 모형"
      ],
      "metadata": {
        "id": "Xg5RbXPpfPSm"
      }
    },
    {
      "cell_type": "code",
      "source": [
        "import statsmodels.formula.api as smf\n",
        "model = smf.probit('save ~ age + I(age**2) + gender+ edu + C(channel)', data=df).fit()\n",
        "print(model.summary())"
      ],
      "metadata": {
        "id": "h_jyDkPofO8t",
        "colab": {
          "base_uri": "https://localhost:8080/"
        },
        "outputId": "5591179e-33a6-4cf5-a44f-d3ba4b580912"
      },
      "execution_count": 6,
      "outputs": [
        {
          "output_type": "stream",
          "name": "stdout",
          "text": [
            "Optimization terminated successfully.\n",
            "         Current function value: 0.632102\n",
            "         Iterations 5\n",
            "                          Probit Regression Results                           \n",
            "==============================================================================\n",
            "Dep. Variable:                   save   No. Observations:                  297\n",
            "Model:                         Probit   Df Residuals:                      288\n",
            "Method:                           MLE   Df Model:                            8\n",
            "Date:                Wed, 14 May 2025   Pseudo R-squ.:                 0.07655\n",
            "Time:                        08:20:01   Log-Likelihood:                -187.73\n",
            "converged:                       True   LL-Null:                       -203.30\n",
            "Covariance Type:            nonrobust   LLR p-value:                 0.0001335\n",
            "===================================================================================\n",
            "                      coef    std err          z      P>|z|      [0.025      0.975]\n",
            "-----------------------------------------------------------------------------------\n",
            "Intercept           1.9103      0.975      1.960      0.050       0.000       3.821\n",
            "C(channel)[T.2]    -0.9995      0.463     -2.160      0.031      -1.907      -0.092\n",
            "C(channel)[T.3]    -0.2388      0.189     -1.265      0.206      -0.609       0.131\n",
            "C(channel)[T.4]    -0.4854      0.272     -1.782      0.075      -1.019       0.048\n",
            "C(channel)[T.5]     0.1665      0.527      0.316      0.752      -0.867       1.200\n",
            "age                -0.0904      0.033     -2.728      0.006      -0.155      -0.025\n",
            "I(age ** 2)         0.0011      0.000      3.076      0.002       0.000       0.002\n",
            "gender             -0.0357      0.153     -0.234      0.815      -0.335       0.264\n",
            "edu                -0.1034      0.198     -0.524      0.601      -0.491       0.284\n",
            "===================================================================================\n"
          ]
        }
      ]
    },
    {
      "cell_type": "code",
      "source": [
        "#한계효과\n",
        "margeff = model.get_margeff()\n",
        "margeff.summary()"
      ],
      "metadata": {
        "id": "fSxJbCqEfccX",
        "colab": {
          "base_uri": "https://localhost:8080/",
          "height": 295
        },
        "outputId": "4c2f7066-2e96-4d7c-8182-7b8ee08a186e"
      },
      "execution_count": 7,
      "outputs": [
        {
          "output_type": "execute_result",
          "data": {
            "text/plain": [
              "<class 'statsmodels.iolib.summary.Summary'>\n",
              "\"\"\"\n",
              "       Probit Marginal Effects       \n",
              "=====================================\n",
              "Dep. Variable:                   save\n",
              "Method:                          dydx\n",
              "At:                           overall\n",
              "===================================================================================\n",
              "                     dy/dx    std err          z      P>|z|      [0.025      0.975]\n",
              "-----------------------------------------------------------------------------------\n",
              "C(channel)[T.2]    -0.3611      0.164     -2.207      0.027      -0.682      -0.040\n",
              "C(channel)[T.3]    -0.0863      0.068     -1.275      0.202      -0.219       0.046\n",
              "C(channel)[T.4]    -0.1754      0.097     -1.810      0.070      -0.365       0.015\n",
              "C(channel)[T.5]     0.0601      0.190      0.316      0.752      -0.313       0.433\n",
              "age                -0.0327      0.012     -2.835      0.005      -0.055      -0.010\n",
              "I(age ** 2)         0.0004      0.000      3.232      0.001       0.000       0.001\n",
              "gender             -0.0129      0.055     -0.234      0.815      -0.121       0.095\n",
              "edu                -0.0374      0.071     -0.524      0.600      -0.177       0.102\n",
              "===================================================================================\n",
              "\"\"\""
            ],
            "text/html": [
              "<table class=\"simpletable\">\n",
              "<caption>Probit Marginal Effects</caption>\n",
              "<tr>\n",
              "  <th>Dep. Variable:</th>  <td>save</td>  \n",
              "</tr>\n",
              "<tr>\n",
              "  <th>Method:</th>         <td>dydx</td>  \n",
              "</tr>\n",
              "<tr>\n",
              "  <th>At:</th>            <td>overall</td>\n",
              "</tr>\n",
              "</table>\n",
              "<table class=\"simpletable\">\n",
              "<tr>\n",
              "         <th></th>            <th>dy/dx</th>    <th>std err</th>      <th>z</th>      <th>P>|z|</th>  <th>[0.025</th>    <th>0.975]</th>  \n",
              "</tr>\n",
              "<tr>\n",
              "  <th>C(channel)[T.2]</th> <td>   -0.3611</td> <td>    0.164</td> <td>   -2.207</td> <td> 0.027</td> <td>   -0.682</td> <td>   -0.040</td>\n",
              "</tr>\n",
              "<tr>\n",
              "  <th>C(channel)[T.3]</th> <td>   -0.0863</td> <td>    0.068</td> <td>   -1.275</td> <td> 0.202</td> <td>   -0.219</td> <td>    0.046</td>\n",
              "</tr>\n",
              "<tr>\n",
              "  <th>C(channel)[T.4]</th> <td>   -0.1754</td> <td>    0.097</td> <td>   -1.810</td> <td> 0.070</td> <td>   -0.365</td> <td>    0.015</td>\n",
              "</tr>\n",
              "<tr>\n",
              "  <th>C(channel)[T.5]</th> <td>    0.0601</td> <td>    0.190</td> <td>    0.316</td> <td> 0.752</td> <td>   -0.313</td> <td>    0.433</td>\n",
              "</tr>\n",
              "<tr>\n",
              "  <th>age</th>             <td>   -0.0327</td> <td>    0.012</td> <td>   -2.835</td> <td> 0.005</td> <td>   -0.055</td> <td>   -0.010</td>\n",
              "</tr>\n",
              "<tr>\n",
              "  <th>I(age ** 2)</th>     <td>    0.0004</td> <td>    0.000</td> <td>    3.232</td> <td> 0.001</td> <td>    0.000</td> <td>    0.001</td>\n",
              "</tr>\n",
              "<tr>\n",
              "  <th>gender</th>          <td>   -0.0129</td> <td>    0.055</td> <td>   -0.234</td> <td> 0.815</td> <td>   -0.121</td> <td>    0.095</td>\n",
              "</tr>\n",
              "<tr>\n",
              "  <th>edu</th>             <td>   -0.0374</td> <td>    0.071</td> <td>   -0.524</td> <td> 0.600</td> <td>   -0.177</td> <td>    0.102</td>\n",
              "</tr>\n",
              "</table>"
            ],
            "text/latex": "\\begin{center}\n\\begin{tabular}{lc}\n\\toprule\n\\textbf{Dep. Variable:}  &      save       \\\\\n\\textbf{Method:}         &      dydx       \\\\\n\\textbf{At:}             &    overall      \\\\\n\\bottomrule\n\\end{tabular}\n\\begin{tabular}{ccccccc}\n       \\textbf{}         & \\textbf{dy/dx} & \\textbf{std err} & \\textbf{z} & \\textbf{P$> |$z$|$} & \\textbf{[0.025} & \\textbf{0.975]}  \\\\\n\\midrule\n\\bottomrule\n\\end{tabular}\n\\begin{tabular}{lcccccc}\n\\textbf{C(channel)[T.2]} &      -0.3611   &        0.164     &    -2.207  &         0.027        &       -0.682    &       -0.040     \\\\\n\\textbf{C(channel)[T.3]} &      -0.0863   &        0.068     &    -1.275  &         0.202        &       -0.219    &        0.046     \\\\\n\\textbf{C(channel)[T.4]} &      -0.1754   &        0.097     &    -1.810  &         0.070        &       -0.365    &        0.015     \\\\\n\\textbf{C(channel)[T.5]} &       0.0601   &        0.190     &     0.316  &         0.752        &       -0.313    &        0.433     \\\\\n\\textbf{age}             &      -0.0327   &        0.012     &    -2.835  &         0.005        &       -0.055    &       -0.010     \\\\\n\\textbf{I(age ** 2)}     &       0.0004   &        0.000     &     3.232  &         0.001        &        0.000    &        0.001     \\\\\n\\textbf{gender}          &      -0.0129   &        0.055     &    -0.234  &         0.815        &       -0.121    &        0.095     \\\\\n\\textbf{edu}             &      -0.0374   &        0.071     &    -0.524  &         0.600        &       -0.177    &        0.102     \\\\\n\\bottomrule\n\\end{tabular}\n%\\caption{Probit Marginal Effects}\n\\end{center}"
          },
          "metadata": {},
          "execution_count": 7
        }
      ]
    },
    {
      "cell_type": "markdown",
      "source": [
        "한계효과는 다른 통제변수들의 평균에서의 한계효과(marginal effect at the mean)를 의미한다."
      ],
      "metadata": {
        "id": "DVeWl3vKfosI"
      }
    }
  ]
}