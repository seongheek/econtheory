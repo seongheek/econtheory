{
  "nbformat": 4,
  "nbformat_minor": 0,
  "metadata": {
    "colab": {
      "provenance": [],
      "include_colab_link": true
    },
    "kernelspec": {
      "name": "python3",
      "display_name": "Python 3"
    },
    "language_info": {
      "name": "python"
    }
  },
  "cells": [
    {
      "cell_type": "markdown",
      "metadata": {
        "id": "view-in-github",
        "colab_type": "text"
      },
      "source": [
        "<a href=\"https://colab.research.google.com/github/seongheek/econtheory/blob/main/%5B3%EC%A3%BC%EC%B0%A8_%EA%B0%95%EC%9D%98%5D_%ED%95%A8%EC%88%98_%EB%B6%88%EB%9F%AC%EC%98%A4%EA%B8%B0.ipynb\" target=\"_parent\"><img src=\"https://colab.research.google.com/assets/colab-badge.svg\" alt=\"Open In Colab\"/></a>"
      ]
    },
    {
      "cell_type": "markdown",
      "source": [
        "# **함수 불러오기**\n",
        "\n",
        "참고- 파이썬 내장함수: https://docs.python.org/ko/3/library/functions.html"
      ],
      "metadata": {
        "id": "JNnUJmoNcdqm"
      }
    },
    {
      "cell_type": "code",
      "source": [
        "import random\n",
        "dice=random.randint(1,6)\n",
        "print(dice)"
      ],
      "metadata": {
        "id": "WU-jlPK1ciB-",
        "colab": {
          "base_uri": "https://localhost:8080/"
        },
        "outputId": "f6efc337-9e06-4994-c9e8-1dc7e6e8aa9d"
      },
      "execution_count": 1,
      "outputs": [
        {
          "output_type": "stream",
          "name": "stdout",
          "text": [
            "5\n"
          ]
        }
      ]
    },
    {
      "cell_type": "code",
      "source": [
        "import random\n",
        "dice2=random.randint(1,12)\n",
        "print(dice2)"
      ],
      "metadata": {
        "id": "-2SRCY26cmk_",
        "colab": {
          "base_uri": "https://localhost:8080/"
        },
        "outputId": "2fd3232b-78fb-4c7e-8399-3bd574bdbd6d"
      },
      "execution_count": 4,
      "outputs": [
        {
          "output_type": "stream",
          "name": "stdout",
          "text": [
            "12\n"
          ]
        }
      ]
    },
    {
      "cell_type": "code",
      "source": [
        "import math\n",
        "print(math.sqrt(3))"
      ],
      "metadata": {
        "id": "e0kyiMtoc2FV",
        "colab": {
          "base_uri": "https://localhost:8080/"
        },
        "outputId": "2c669c0d-32de-4b01-d0d5-328c06700e99"
      },
      "execution_count": 3,
      "outputs": [
        {
          "output_type": "stream",
          "name": "stdout",
          "text": [
            "1.7320508075688772\n"
          ]
        }
      ]
    },
    {
      "cell_type": "markdown",
      "source": [
        "# **for 반복문**"
      ],
      "metadata": {
        "id": "eueGpkg1dnfr"
      }
    },
    {
      "cell_type": "code",
      "source": [
        "name='파이썬'\n",
        "for i in name:\n",
        "  print(i)"
      ],
      "metadata": {
        "id": "dK6tCUwmdsZW",
        "colab": {
          "base_uri": "https://localhost:8080/"
        },
        "outputId": "7fb31d11-b1da-46c0-89ee-614ed18e99c7"
      },
      "execution_count": 5,
      "outputs": [
        {
          "output_type": "stream",
          "name": "stdout",
          "text": [
            "파\n",
            "이\n",
            "썬\n"
          ]
        }
      ]
    },
    {
      "cell_type": "code",
      "source": [
        "names=['피카츄','라이츄','파이리', '꼬부기']\n",
        "for name in names:\n",
        "  print(name)"
      ],
      "metadata": {
        "id": "EHVdYDb5dyyV",
        "colab": {
          "base_uri": "https://localhost:8080/"
        },
        "outputId": "382f0164-7a29-4a2d-95dc-cc54d81b3ff9"
      },
      "execution_count": 6,
      "outputs": [
        {
          "output_type": "stream",
          "name": "stdout",
          "text": [
            "피카츄\n",
            "라이츄\n",
            "파이리\n",
            "꼬부기\n"
          ]
        }
      ]
    },
    {
      "cell_type": "code",
      "source": [
        "for i in [0,1,2,3]:\n",
        "  print(i**2)"
      ],
      "metadata": {
        "id": "TRgwcNYdd-lo",
        "colab": {
          "base_uri": "https://localhost:8080/"
        },
        "outputId": "1edd7c8b-3d9d-40ce-a3eb-839c05745141"
      },
      "execution_count": 7,
      "outputs": [
        {
          "output_type": "stream",
          "name": "stdout",
          "text": [
            "0\n",
            "1\n",
            "4\n",
            "9\n"
          ]
        }
      ]
    },
    {
      "cell_type": "code",
      "source": [
        "for i in range(100):\n",
        "  print(i**2)"
      ],
      "metadata": {
        "id": "TsSyOUwLeH8c",
        "colab": {
          "base_uri": "https://localhost:8080/"
        },
        "outputId": "35e4cddf-6001-4bd9-f3ee-e22d5c5f63ad"
      },
      "execution_count": 8,
      "outputs": [
        {
          "output_type": "stream",
          "name": "stdout",
          "text": [
            "0\n",
            "1\n",
            "4\n",
            "9\n",
            "16\n",
            "25\n",
            "36\n",
            "49\n",
            "64\n",
            "81\n",
            "100\n",
            "121\n",
            "144\n",
            "169\n",
            "196\n",
            "225\n",
            "256\n",
            "289\n",
            "324\n",
            "361\n",
            "400\n",
            "441\n",
            "484\n",
            "529\n",
            "576\n",
            "625\n",
            "676\n",
            "729\n",
            "784\n",
            "841\n",
            "900\n",
            "961\n",
            "1024\n",
            "1089\n",
            "1156\n",
            "1225\n",
            "1296\n",
            "1369\n",
            "1444\n",
            "1521\n",
            "1600\n",
            "1681\n",
            "1764\n",
            "1849\n",
            "1936\n",
            "2025\n",
            "2116\n",
            "2209\n",
            "2304\n",
            "2401\n",
            "2500\n",
            "2601\n",
            "2704\n",
            "2809\n",
            "2916\n",
            "3025\n",
            "3136\n",
            "3249\n",
            "3364\n",
            "3481\n",
            "3600\n",
            "3721\n",
            "3844\n",
            "3969\n",
            "4096\n",
            "4225\n",
            "4356\n",
            "4489\n",
            "4624\n",
            "4761\n",
            "4900\n",
            "5041\n",
            "5184\n",
            "5329\n",
            "5476\n",
            "5625\n",
            "5776\n",
            "5929\n",
            "6084\n",
            "6241\n",
            "6400\n",
            "6561\n",
            "6724\n",
            "6889\n",
            "7056\n",
            "7225\n",
            "7396\n",
            "7569\n",
            "7744\n",
            "7921\n",
            "8100\n",
            "8281\n",
            "8464\n",
            "8649\n",
            "8836\n",
            "9025\n",
            "9216\n",
            "9409\n",
            "9604\n",
            "9801\n"
          ]
        }
      ]
    },
    {
      "cell_type": "code",
      "source": [
        "for i in range(100):\n",
        "   print('나는 파이썬 왕이 될 사람이다!!')"
      ],
      "metadata": {
        "id": "K9mvvta0eOPx",
        "colab": {
          "base_uri": "https://localhost:8080/"
        },
        "outputId": "ad6daadf-def7-4e19-9129-1b04f3279d19"
      },
      "execution_count": 9,
      "outputs": [
        {
          "output_type": "stream",
          "name": "stdout",
          "text": [
            "나는 파이썬 왕이 될 사람이다!!\n",
            "나는 파이썬 왕이 될 사람이다!!\n",
            "나는 파이썬 왕이 될 사람이다!!\n",
            "나는 파이썬 왕이 될 사람이다!!\n",
            "나는 파이썬 왕이 될 사람이다!!\n",
            "나는 파이썬 왕이 될 사람이다!!\n",
            "나는 파이썬 왕이 될 사람이다!!\n",
            "나는 파이썬 왕이 될 사람이다!!\n",
            "나는 파이썬 왕이 될 사람이다!!\n",
            "나는 파이썬 왕이 될 사람이다!!\n",
            "나는 파이썬 왕이 될 사람이다!!\n",
            "나는 파이썬 왕이 될 사람이다!!\n",
            "나는 파이썬 왕이 될 사람이다!!\n",
            "나는 파이썬 왕이 될 사람이다!!\n",
            "나는 파이썬 왕이 될 사람이다!!\n",
            "나는 파이썬 왕이 될 사람이다!!\n",
            "나는 파이썬 왕이 될 사람이다!!\n",
            "나는 파이썬 왕이 될 사람이다!!\n",
            "나는 파이썬 왕이 될 사람이다!!\n",
            "나는 파이썬 왕이 될 사람이다!!\n",
            "나는 파이썬 왕이 될 사람이다!!\n",
            "나는 파이썬 왕이 될 사람이다!!\n",
            "나는 파이썬 왕이 될 사람이다!!\n",
            "나는 파이썬 왕이 될 사람이다!!\n",
            "나는 파이썬 왕이 될 사람이다!!\n",
            "나는 파이썬 왕이 될 사람이다!!\n",
            "나는 파이썬 왕이 될 사람이다!!\n",
            "나는 파이썬 왕이 될 사람이다!!\n",
            "나는 파이썬 왕이 될 사람이다!!\n",
            "나는 파이썬 왕이 될 사람이다!!\n",
            "나는 파이썬 왕이 될 사람이다!!\n",
            "나는 파이썬 왕이 될 사람이다!!\n",
            "나는 파이썬 왕이 될 사람이다!!\n",
            "나는 파이썬 왕이 될 사람이다!!\n",
            "나는 파이썬 왕이 될 사람이다!!\n",
            "나는 파이썬 왕이 될 사람이다!!\n",
            "나는 파이썬 왕이 될 사람이다!!\n",
            "나는 파이썬 왕이 될 사람이다!!\n",
            "나는 파이썬 왕이 될 사람이다!!\n",
            "나는 파이썬 왕이 될 사람이다!!\n",
            "나는 파이썬 왕이 될 사람이다!!\n",
            "나는 파이썬 왕이 될 사람이다!!\n",
            "나는 파이썬 왕이 될 사람이다!!\n",
            "나는 파이썬 왕이 될 사람이다!!\n",
            "나는 파이썬 왕이 될 사람이다!!\n",
            "나는 파이썬 왕이 될 사람이다!!\n",
            "나는 파이썬 왕이 될 사람이다!!\n",
            "나는 파이썬 왕이 될 사람이다!!\n",
            "나는 파이썬 왕이 될 사람이다!!\n",
            "나는 파이썬 왕이 될 사람이다!!\n",
            "나는 파이썬 왕이 될 사람이다!!\n",
            "나는 파이썬 왕이 될 사람이다!!\n",
            "나는 파이썬 왕이 될 사람이다!!\n",
            "나는 파이썬 왕이 될 사람이다!!\n",
            "나는 파이썬 왕이 될 사람이다!!\n",
            "나는 파이썬 왕이 될 사람이다!!\n",
            "나는 파이썬 왕이 될 사람이다!!\n",
            "나는 파이썬 왕이 될 사람이다!!\n",
            "나는 파이썬 왕이 될 사람이다!!\n",
            "나는 파이썬 왕이 될 사람이다!!\n",
            "나는 파이썬 왕이 될 사람이다!!\n",
            "나는 파이썬 왕이 될 사람이다!!\n",
            "나는 파이썬 왕이 될 사람이다!!\n",
            "나는 파이썬 왕이 될 사람이다!!\n",
            "나는 파이썬 왕이 될 사람이다!!\n",
            "나는 파이썬 왕이 될 사람이다!!\n",
            "나는 파이썬 왕이 될 사람이다!!\n",
            "나는 파이썬 왕이 될 사람이다!!\n",
            "나는 파이썬 왕이 될 사람이다!!\n",
            "나는 파이썬 왕이 될 사람이다!!\n",
            "나는 파이썬 왕이 될 사람이다!!\n",
            "나는 파이썬 왕이 될 사람이다!!\n",
            "나는 파이썬 왕이 될 사람이다!!\n",
            "나는 파이썬 왕이 될 사람이다!!\n",
            "나는 파이썬 왕이 될 사람이다!!\n",
            "나는 파이썬 왕이 될 사람이다!!\n",
            "나는 파이썬 왕이 될 사람이다!!\n",
            "나는 파이썬 왕이 될 사람이다!!\n",
            "나는 파이썬 왕이 될 사람이다!!\n",
            "나는 파이썬 왕이 될 사람이다!!\n",
            "나는 파이썬 왕이 될 사람이다!!\n",
            "나는 파이썬 왕이 될 사람이다!!\n",
            "나는 파이썬 왕이 될 사람이다!!\n",
            "나는 파이썬 왕이 될 사람이다!!\n",
            "나는 파이썬 왕이 될 사람이다!!\n",
            "나는 파이썬 왕이 될 사람이다!!\n",
            "나는 파이썬 왕이 될 사람이다!!\n",
            "나는 파이썬 왕이 될 사람이다!!\n",
            "나는 파이썬 왕이 될 사람이다!!\n",
            "나는 파이썬 왕이 될 사람이다!!\n",
            "나는 파이썬 왕이 될 사람이다!!\n",
            "나는 파이썬 왕이 될 사람이다!!\n",
            "나는 파이썬 왕이 될 사람이다!!\n",
            "나는 파이썬 왕이 될 사람이다!!\n",
            "나는 파이썬 왕이 될 사람이다!!\n",
            "나는 파이썬 왕이 될 사람이다!!\n",
            "나는 파이썬 왕이 될 사람이다!!\n",
            "나는 파이썬 왕이 될 사람이다!!\n",
            "나는 파이썬 왕이 될 사람이다!!\n",
            "나는 파이썬 왕이 될 사람이다!!\n"
          ]
        }
      ]
    },
    {
      "cell_type": "markdown",
      "source": [
        "# **if 조건문**"
      ],
      "metadata": {
        "id": "qPSKBszifZ2c"
      }
    },
    {
      "cell_type": "code",
      "source": [
        "if 10>0:\n",
        "  print('안녕하세요?')"
      ],
      "metadata": {
        "id": "aREBXU95fcCH",
        "colab": {
          "base_uri": "https://localhost:8080/"
        },
        "outputId": "18a8c33a-74ba-489f-ebc0-498fc7e575fb"
      },
      "execution_count": 10,
      "outputs": [
        {
          "output_type": "stream",
          "name": "stdout",
          "text": [
            "안녕하세요?\n"
          ]
        }
      ]
    },
    {
      "cell_type": "code",
      "source": [
        "if 0>10:\n",
        "  print('안녕하세요?')"
      ],
      "metadata": {
        "id": "yV_bpOb3fjmJ"
      },
      "execution_count": 11,
      "outputs": []
    },
    {
      "cell_type": "code",
      "source": [
        "if 10!=0 and 5%2==1:\n",
        "  print('안녕하세요?')"
      ],
      "metadata": {
        "id": "nV4eYXkOfmoN",
        "colab": {
          "base_uri": "https://localhost:8080/"
        },
        "outputId": "404f826b-d729-4fcb-c254-ea733917130a"
      },
      "execution_count": 12,
      "outputs": [
        {
          "output_type": "stream",
          "name": "stdout",
          "text": [
            "안녕하세요?\n"
          ]
        }
      ]
    },
    {
      "cell_type": "code",
      "source": [
        "password=int(input('비밀번호 4자리를 입력하세요: '))\n",
        "if password ==1531:\n",
        "  print('비밀번호가 일치합니다.')\n",
        "if password!=1531:\n",
        "  print('비밀번호가 일치하지 않습니다')"
      ],
      "metadata": {
        "id": "iIB4PtKpfsth",
        "colab": {
          "base_uri": "https://localhost:8080/"
        },
        "outputId": "c480ddb9-156d-4d24-c1a5-3ce029cd7068"
      },
      "execution_count": 13,
      "outputs": [
        {
          "output_type": "stream",
          "name": "stdout",
          "text": [
            "비밀번호 4자리를 입력하세요: 1531\n",
            "비밀번호가 일치합니다.\n"
          ]
        }
      ]
    },
    {
      "cell_type": "code",
      "source": [
        "password=int(input('비밀번호 4자리를 입력하세요: '))\n",
        "if password ==1531:\n",
        "  print('비밀번호가 일치합니다.')\n",
        "else:\n",
        "  print('비밀번호가 일치하지 않습니다')"
      ],
      "metadata": {
        "id": "Up7g8yPxf6us",
        "colab": {
          "base_uri": "https://localhost:8080/"
        },
        "outputId": "d58eed5e-a063-4545-eb21-910bbb4e7685"
      },
      "execution_count": 14,
      "outputs": [
        {
          "output_type": "stream",
          "name": "stdout",
          "text": [
            "비밀번호 4자리를 입력하세요: 1234\n",
            "비밀번호가 일치하지 않습니다\n"
          ]
        }
      ]
    },
    {
      "cell_type": "markdown",
      "source": [
        "# **순서가 있는 저장공간 리스트**"
      ],
      "metadata": {
        "id": "BxTntQBEi6Eb"
      }
    },
    {
      "cell_type": "code",
      "source": [
        "for i in [0,1,2,3]:\n",
        "  print(i**2)"
      ],
      "metadata": {
        "id": "A6ZEgjyvjAby",
        "colab": {
          "base_uri": "https://localhost:8080/"
        },
        "outputId": "2b1f8f85-2093-4b61-c580-25861e1d3d6b"
      },
      "execution_count": 15,
      "outputs": [
        {
          "output_type": "stream",
          "name": "stdout",
          "text": [
            "0\n",
            "1\n",
            "4\n",
            "9\n"
          ]
        }
      ]
    },
    {
      "cell_type": "code",
      "source": [
        "names=['피카츄', '라이츄', '파이리', '꼬부기']\n",
        "for name in names:\n",
        "  print(name)"
      ],
      "metadata": {
        "id": "ENm0qJHdjDYF",
        "colab": {
          "base_uri": "https://localhost:8080/"
        },
        "outputId": "e1a7b212-e6c6-4b33-bd98-aaaa9f12d8a5"
      },
      "execution_count": 16,
      "outputs": [
        {
          "output_type": "stream",
          "name": "stdout",
          "text": [
            "피카츄\n",
            "라이츄\n",
            "파이리\n",
            "꼬부기\n"
          ]
        }
      ]
    },
    {
      "cell_type": "code",
      "source": [
        "print(names[1])"
      ],
      "metadata": {
        "id": "uA8k6I-ojJBk",
        "colab": {
          "base_uri": "https://localhost:8080/"
        },
        "outputId": "c3006d03-d002-4415-f191-2f4090a4b2ac"
      },
      "execution_count": 17,
      "outputs": [
        {
          "output_type": "stream",
          "name": "stdout",
          "text": [
            "라이츄\n"
          ]
        }
      ]
    },
    {
      "cell_type": "code",
      "source": [
        "print(names[-1])"
      ],
      "metadata": {
        "id": "RkPfl8QqjN9W",
        "colab": {
          "base_uri": "https://localhost:8080/"
        },
        "outputId": "e565e263-cbfe-464f-cccc-7f8ce09c1db8"
      },
      "execution_count": 18,
      "outputs": [
        {
          "output_type": "stream",
          "name": "stdout",
          "text": [
            "꼬부기\n"
          ]
        }
      ]
    },
    {
      "cell_type": "code",
      "source": [
        "print(names[0:2])"
      ],
      "metadata": {
        "id": "DrNTyQ9djWgC",
        "colab": {
          "base_uri": "https://localhost:8080/"
        },
        "outputId": "1961afca-9b3a-4346-c6a7-2e1af1b0fe24"
      },
      "execution_count": 19,
      "outputs": [
        {
          "output_type": "stream",
          "name": "stdout",
          "text": [
            "['피카츄', '라이츄']\n"
          ]
        }
      ]
    },
    {
      "cell_type": "code",
      "source": [
        "print(names[1:])"
      ],
      "metadata": {
        "id": "Q4XLJ3bIjaev",
        "colab": {
          "base_uri": "https://localhost:8080/"
        },
        "outputId": "5a829afd-8afa-4da3-fa09-db45bf975691"
      },
      "execution_count": 20,
      "outputs": [
        {
          "output_type": "stream",
          "name": "stdout",
          "text": [
            "['라이츄', '파이리', '꼬부기']\n"
          ]
        }
      ]
    },
    {
      "cell_type": "code",
      "source": [
        "names.append('버터풀')   #append는 리스트 원소를 추가\n",
        "print(names)"
      ],
      "metadata": {
        "id": "dBAVhG0tjgWW",
        "colab": {
          "base_uri": "https://localhost:8080/"
        },
        "outputId": "38ace4c4-2313-4c86-d456-0ef8a4d04ce8"
      },
      "execution_count": 21,
      "outputs": [
        {
          "output_type": "stream",
          "name": "stdout",
          "text": [
            "['피카츄', '라이츄', '파이리', '꼬부기', '버터풀']\n"
          ]
        }
      ]
    },
    {
      "cell_type": "code",
      "source": [
        "print(len(names))  # len() 함수는 리스트에 원소(element)가 몇 개 들어 있는지 보여줌"
      ],
      "metadata": {
        "id": "Myqrz8Ufkf6P",
        "colab": {
          "base_uri": "https://localhost:8080/"
        },
        "outputId": "d5a826ee-2a41-490b-e6b4-e857f88a16f1"
      },
      "execution_count": 22,
      "outputs": [
        {
          "output_type": "stream",
          "name": "stdout",
          "text": [
            "5\n"
          ]
        }
      ]
    },
    {
      "cell_type": "code",
      "source": [
        "print(len('data analysis for everyone'))"
      ],
      "metadata": {
        "id": "BO4Hw6-fkins",
        "colab": {
          "base_uri": "https://localhost:8080/"
        },
        "outputId": "3695ea9a-96cf-4c5d-ba99-9bff3dc769c4"
      },
      "execution_count": 23,
      "outputs": [
        {
          "output_type": "stream",
          "name": "stdout",
          "text": [
            "26\n"
          ]
        }
      ]
    },
    {
      "cell_type": "code",
      "source": [
        "names.remove('버터풀')  #remove는 리스트 원소를 삭제\n",
        "names"
      ],
      "metadata": {
        "id": "EHRtb_B6l7aC",
        "colab": {
          "base_uri": "https://localhost:8080/"
        },
        "outputId": "75537fa3-5d51-4107-ccc1-fdf01216598e"
      },
      "execution_count": 36,
      "outputs": [
        {
          "output_type": "execute_result",
          "data": {
            "text/plain": [
              "['피카츄', '라이츄', '파이리', '꼬부기']"
            ]
          },
          "metadata": {},
          "execution_count": 36
        }
      ]
    },
    {
      "cell_type": "code",
      "source": [
        "names.append('푸린')\n",
        "for name in names:\n",
        "  if len(name)<3:\n",
        "    print(name, '왔나요?')"
      ],
      "metadata": {
        "id": "Ei3MyeGLkln5",
        "colab": {
          "base_uri": "https://localhost:8080/"
        },
        "outputId": "05a9906d-4656-43b9-ca4b-6382712a09c3"
      },
      "execution_count": 37,
      "outputs": [
        {
          "output_type": "stream",
          "name": "stdout",
          "text": [
            "푸린 왔나요?\n"
          ]
        }
      ]
    }
  ]
}
